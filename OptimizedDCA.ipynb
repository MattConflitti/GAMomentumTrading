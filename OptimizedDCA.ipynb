{
 "cells": [
  {
   "cell_type": "code",
   "execution_count": 424,
   "metadata": {},
   "outputs": [],
   "source": [
    "import pandas as pd\n",
    "import numpy as np\n",
    "import pandas_ta as ta\n",
    "from alpha_vantage.timeseries import TimeSeries\n",
    "import matplotlib.pyplot as plt\n",
    "from copy import deepcopy"
   ]
  },
  {
   "cell_type": "code",
   "execution_count": 425,
   "metadata": {},
   "outputs": [],
   "source": [
    "ts = TimeSeries(key='IX5ZSV7I3UUZ3I5B', output_format='csv')"
   ]
  },
  {
   "cell_type": "code",
   "execution_count": 426,
   "metadata": {},
   "outputs": [],
   "source": [
    "from time import sleep"
   ]
  },
  {
   "cell_type": "code",
   "execution_count": 427,
   "metadata": {},
   "outputs": [],
   "source": [
    "data_reader, _ = ts.get_daily_adjusted('F', outputsize='full')\n",
    "df = pd.DataFrame(data_reader)\n",
    "df, df.columns = df[1:] , df.iloc[0]"
   ]
  },
  {
   "cell_type": "code",
   "execution_count": 428,
   "metadata": {},
   "outputs": [],
   "source": [
    "df['timestamp'] = pd.to_datetime(df['timestamp'])\n",
    "df = df.set_index('timestamp')"
   ]
  },
  {
   "cell_type": "code",
   "execution_count": 429,
   "metadata": {},
   "outputs": [
    {
     "name": "stdout",
     "output_type": "stream",
     "text": [
      "Pandas TA - Technical Analysis Indicators - v0.2.23b0\n",
      "Total Indicators: 123\n",
      "Abbreviations:\n",
      "    aberration, above, above_value, accbands, ad, adosc, adx, amat, ao, aobv, apo, aroon, atr, bbands, below, below_value, bias, bop, brar, cci, cdl_doji, cdl_inside, cfo, cg, chop, cksp, cmf, cmo, coppock, cross, cross_value, decay, decreasing, dema, donchian, dpo, efi, ema, entropy, eom, er, eri, fisher, fwma, ha, hilo, hl2, hlc3, hma, ichimoku, increasing, inertia, kama, kc, kdj, kst, kurtosis, linreg, log_return, long_run, macd, mad, massi, median, mfi, midpoint, midprice, mom, natr, nvi, obv, ohlc4, pdist, percent_return, pgo, ppo, psar, psl, pvi, pvo, pvol, pvt, pwma, qstick, quantile, rma, roc, rsi, rvgi, rvi, short_run, sinwma, skew, slope, sma, smi, squeeze, stdev, stoch, stochrsi, supertrend, swma, t3, tema, thermo, trend_return, trima, trix, true_range, tsi, ttm_trend, ui, uo, variance, vortex, vp, vwap, vwma, wcp, willr, wma, zlma, zscore\n"
     ]
    }
   ],
   "source": [
    "df.ta.indicators()"
   ]
  },
  {
   "cell_type": "code",
   "execution_count": 430,
   "metadata": {},
   "outputs": [],
   "source": [
    "# df = df[['open','high','low','close','volume','adjusted_close']]\n",
    "df = df.rename(columns={'adjusted_close':'adj_close'})"
   ]
  },
  {
   "cell_type": "code",
   "execution_count": 431,
   "metadata": {},
   "outputs": [],
   "source": [
    "for c in df.columns:\n",
    "    df[c] = pd.to_numeric(df[c])"
   ]
  },
  {
   "cell_type": "code",
   "execution_count": 432,
   "metadata": {},
   "outputs": [],
   "source": [
    "df = df.sort_index()"
   ]
  },
  {
   "cell_type": "code",
   "execution_count": 433,
   "metadata": {},
   "outputs": [
    {
     "data": {
      "text/html": [
       "<div>\n",
       "<style scoped>\n",
       "    .dataframe tbody tr th:only-of-type {\n",
       "        vertical-align: middle;\n",
       "    }\n",
       "\n",
       "    .dataframe tbody tr th {\n",
       "        vertical-align: top;\n",
       "    }\n",
       "\n",
       "    .dataframe thead th {\n",
       "        text-align: right;\n",
       "    }\n",
       "</style>\n",
       "<table border=\"1\" class=\"dataframe\">\n",
       "  <thead>\n",
       "    <tr style=\"text-align: right;\">\n",
       "      <th></th>\n",
       "      <th>open</th>\n",
       "      <th>high</th>\n",
       "      <th>low</th>\n",
       "      <th>close</th>\n",
       "      <th>adj_close</th>\n",
       "      <th>volume</th>\n",
       "      <th>dividend_amount</th>\n",
       "      <th>split_coefficient</th>\n",
       "    </tr>\n",
       "    <tr>\n",
       "      <th>timestamp</th>\n",
       "      <th></th>\n",
       "      <th></th>\n",
       "      <th></th>\n",
       "      <th></th>\n",
       "      <th></th>\n",
       "      <th></th>\n",
       "      <th></th>\n",
       "      <th></th>\n",
       "    </tr>\n",
       "  </thead>\n",
       "  <tbody>\n",
       "    <tr>\n",
       "      <th>1999-11-01</th>\n",
       "      <td>55.00</td>\n",
       "      <td>55.88</td>\n",
       "      <td>54.44</td>\n",
       "      <td>54.63</td>\n",
       "      <td>23.210725</td>\n",
       "      <td>2377849</td>\n",
       "      <td>0.0</td>\n",
       "      <td>1.0</td>\n",
       "    </tr>\n",
       "    <tr>\n",
       "      <th>1999-11-02</th>\n",
       "      <td>55.00</td>\n",
       "      <td>56.13</td>\n",
       "      <td>54.38</td>\n",
       "      <td>54.38</td>\n",
       "      <td>23.104507</td>\n",
       "      <td>2111458</td>\n",
       "      <td>0.0</td>\n",
       "      <td>1.0</td>\n",
       "    </tr>\n",
       "    <tr>\n",
       "      <th>1999-11-03</th>\n",
       "      <td>54.44</td>\n",
       "      <td>54.69</td>\n",
       "      <td>53.13</td>\n",
       "      <td>53.75</td>\n",
       "      <td>22.836838</td>\n",
       "      <td>2838765</td>\n",
       "      <td>0.0</td>\n",
       "      <td>1.0</td>\n",
       "    </tr>\n",
       "    <tr>\n",
       "      <th>1999-11-04</th>\n",
       "      <td>54.00</td>\n",
       "      <td>54.19</td>\n",
       "      <td>53.06</td>\n",
       "      <td>53.06</td>\n",
       "      <td>22.543677</td>\n",
       "      <td>2207702</td>\n",
       "      <td>0.0</td>\n",
       "      <td>1.0</td>\n",
       "    </tr>\n",
       "    <tr>\n",
       "      <th>1999-11-05</th>\n",
       "      <td>53.63</td>\n",
       "      <td>54.31</td>\n",
       "      <td>53.13</td>\n",
       "      <td>53.69</td>\n",
       "      <td>22.811346</td>\n",
       "      <td>2264481</td>\n",
       "      <td>0.0</td>\n",
       "      <td>1.0</td>\n",
       "    </tr>\n",
       "  </tbody>\n",
       "</table>\n",
       "</div>"
      ],
      "text/plain": [
       "0            open   high    low  close  adj_close   volume  dividend_amount  \\\n",
       "timestamp                                                                     \n",
       "1999-11-01  55.00  55.88  54.44  54.63  23.210725  2377849              0.0   \n",
       "1999-11-02  55.00  56.13  54.38  54.38  23.104507  2111458              0.0   \n",
       "1999-11-03  54.44  54.69  53.13  53.75  22.836838  2838765              0.0   \n",
       "1999-11-04  54.00  54.19  53.06  53.06  22.543677  2207702              0.0   \n",
       "1999-11-05  53.63  54.31  53.13  53.69  22.811346  2264481              0.0   \n",
       "\n",
       "0           split_coefficient  \n",
       "timestamp                      \n",
       "1999-11-01                1.0  \n",
       "1999-11-02                1.0  \n",
       "1999-11-03                1.0  \n",
       "1999-11-04                1.0  \n",
       "1999-11-05                1.0  "
      ]
     },
     "execution_count": 433,
     "metadata": {},
     "output_type": "execute_result"
    }
   ],
   "source": [
    "df.head()"
   ]
  },
  {
   "cell_type": "code",
   "execution_count": 434,
   "metadata": {},
   "outputs": [
    {
     "data": {
      "text/plain": [
       "<matplotlib.axes._subplots.AxesSubplot at 0x7fd3662d2c10>"
      ]
     },
     "execution_count": 434,
     "metadata": {},
     "output_type": "execute_result"
    },
    {
     "data": {
      "image/png": "[encoded data removed]",
      "text/plain": [
       "<Figure size 432x288 with 1 Axes>"
      ]
     },
     "metadata": {
      "needs_background": "light"
     },
     "output_type": "display_data"
    }
   ],
   "source": [
    "df[['adj_close']].plot()"
   ]
  },
  {
   "cell_type": "code",
   "execution_count": 435,
   "metadata": {},
   "outputs": [],
   "source": [
    "df.ta.adjusted = \"adj_close\"\n",
    "df['RSI'] = df.ta.rsi(14)"
   ]
  },
  {
   "cell_type": "code",
   "execution_count": 471,
   "metadata": {},
   "outputs": [
    {
     "data": {
      "text/plain": [
       "<matplotlib.lines.Line2D at 0x7fd3488178e0>"
      ]
     },
     "execution_count": 471,
     "metadata": {},
     "output_type": "execute_result"
    },
    {
     "data": {
      "image/png": "[encoded data removed]",
      "text/plain": [
       "<Figure size 432x288 with 1 Axes>"
      ]
     },
     "metadata": {
      "needs_background": "light"
     },
     "output_type": "display_data"
    }
   ],
   "source": [
    "df['RSI'].iloc[-365:].plot()\n",
    "plt.axhline(y=70, c='black')\n",
    "plt.axhline(y=30, c='black')"
   ]
  },
  {
   "cell_type": "code",
   "execution_count": 467,
   "metadata": {},
   "outputs": [
    {
     "data": {
      "text/plain": [
       "[1, 2, 3]"
      ]
     },
     "execution_count": 467,
     "metadata": {},
     "output_type": "execute_result"
    }
   ],
   "source": [
    "x = [1,2,3,4]\n",
    "x[:3]"
   ]
  },
  {
   "cell_type": "code",
   "execution_count": 468,
   "metadata": {},
   "outputs": [],
   "source": [
    "def calc_srsi_period(period):\n",
    "    def calc_srsi(x):\n",
    "        prev_period_rsis = x[:period-1]\n",
    "        curr_rsi = x[-1]\n",
    "        min_rsi = np.min(prev_period_rsis)\n",
    "        max_rsi = np.max(prev_period_rsis)\n",
    "\n",
    "        return np.clip((curr_rsi - min_rsi)/(max_rsi - min_rsi), a_min=0, a_max=1)\n",
    "    \n",
    "    return calc_srsi\n",
    "\n",
    "df['SRSI'] = df['RSI'].rolling(15).apply(calc_srsi_period(15), raw=True)"
   ]
  },
  {
   "cell_type": "code",
   "execution_count": 470,
   "metadata": {},
   "outputs": [
    {
     "data": {
      "text/plain": [
       "<matplotlib.axes._subplots.AxesSubplot at 0x7fd348221b50>"
      ]
     },
     "execution_count": 470,
     "metadata": {},
     "output_type": "execute_result"
    },
    {
     "data": {
      "image/png": "[encoded data removed]",
      "text/plain": [
       "<Figure size 432x288 with 1 Axes>"
      ]
     },
     "metadata": {
      "needs_background": "light"
     },
     "output_type": "display_data"
    }
   ],
   "source": [
    "df[['SRSI']].iloc[-365:].plot()"
   ]
  },
  {
   "cell_type": "code",
   "execution_count": 439,
   "metadata": {},
   "outputs": [],
   "source": [
    "df = df.dropna()"
   ]
  },
  {
   "cell_type": "code",
   "execution_count": 440,
   "metadata": {},
   "outputs": [
    {
     "data": {
      "text/html": [
       "<div>\n",
       "<style scoped>\n",
       "    .dataframe tbody tr th:only-of-type {\n",
       "        vertical-align: middle;\n",
       "    }\n",
       "\n",
       "    .dataframe tbody tr th {\n",
       "        vertical-align: top;\n",
       "    }\n",
       "\n",
       "    .dataframe thead th {\n",
       "        text-align: right;\n",
       "    }\n",
       "</style>\n",
       "<table border=\"1\" class=\"dataframe\">\n",
       "  <thead>\n",
       "    <tr style=\"text-align: right;\">\n",
       "      <th></th>\n",
       "      <th>open</th>\n",
       "      <th>high</th>\n",
       "      <th>low</th>\n",
       "      <th>close</th>\n",
       "      <th>adj_close</th>\n",
       "      <th>volume</th>\n",
       "      <th>dividend_amount</th>\n",
       "      <th>split_coefficient</th>\n",
       "      <th>RSI</th>\n",
       "      <th>SRSI</th>\n",
       "    </tr>\n",
       "    <tr>\n",
       "      <th>timestamp</th>\n",
       "      <th></th>\n",
       "      <th></th>\n",
       "      <th></th>\n",
       "      <th></th>\n",
       "      <th></th>\n",
       "      <th></th>\n",
       "      <th></th>\n",
       "      <th></th>\n",
       "      <th></th>\n",
       "      <th></th>\n",
       "    </tr>\n",
       "  </thead>\n",
       "  <tbody>\n",
       "    <tr>\n",
       "      <th>1999-11-22</th>\n",
       "      <td>50.63</td>\n",
       "      <td>51.38</td>\n",
       "      <td>50.25</td>\n",
       "      <td>50.69</td>\n",
       "      <td>21.536732</td>\n",
       "      <td>3763526</td>\n",
       "      <td>0.0</td>\n",
       "      <td>1.0</td>\n",
       "      <td>26.848837</td>\n",
       "      <td>0.474639</td>\n",
       "    </tr>\n",
       "    <tr>\n",
       "      <th>1999-11-23</th>\n",
       "      <td>51.00</td>\n",
       "      <td>51.06</td>\n",
       "      <td>50.50</td>\n",
       "      <td>50.50</td>\n",
       "      <td>21.456006</td>\n",
       "      <td>3111076</td>\n",
       "      <td>0.0</td>\n",
       "      <td>1.0</td>\n",
       "      <td>26.006340</td>\n",
       "      <td>0.459745</td>\n",
       "    </tr>\n",
       "    <tr>\n",
       "      <th>1999-11-24</th>\n",
       "      <td>50.50</td>\n",
       "      <td>51.88</td>\n",
       "      <td>50.13</td>\n",
       "      <td>51.56</td>\n",
       "      <td>21.906370</td>\n",
       "      <td>2948186</td>\n",
       "      <td>0.0</td>\n",
       "      <td>1.0</td>\n",
       "      <td>37.743530</td>\n",
       "      <td>0.667238</td>\n",
       "    </tr>\n",
       "    <tr>\n",
       "      <th>1999-11-26</th>\n",
       "      <td>51.50</td>\n",
       "      <td>51.56</td>\n",
       "      <td>50.63</td>\n",
       "      <td>50.63</td>\n",
       "      <td>21.511240</td>\n",
       "      <td>945130</td>\n",
       "      <td>0.0</td>\n",
       "      <td>1.0</td>\n",
       "      <td>32.824007</td>\n",
       "      <td>0.274646</td>\n",
       "    </tr>\n",
       "    <tr>\n",
       "      <th>1999-11-29</th>\n",
       "      <td>50.44</td>\n",
       "      <td>51.56</td>\n",
       "      <td>50.31</td>\n",
       "      <td>51.31</td>\n",
       "      <td>21.800152</td>\n",
       "      <td>3204965</td>\n",
       "      <td>0.0</td>\n",
       "      <td>1.0</td>\n",
       "      <td>39.076797</td>\n",
       "      <td>0.465672</td>\n",
       "    </tr>\n",
       "    <tr>\n",
       "      <th>...</th>\n",
       "      <td>...</td>\n",
       "      <td>...</td>\n",
       "      <td>...</td>\n",
       "      <td>...</td>\n",
       "      <td>...</td>\n",
       "      <td>...</td>\n",
       "      <td>...</td>\n",
       "      <td>...</td>\n",
       "      <td>...</td>\n",
       "      <td>...</td>\n",
       "    </tr>\n",
       "    <tr>\n",
       "      <th>2021-02-19</th>\n",
       "      <td>11.52</td>\n",
       "      <td>11.59</td>\n",
       "      <td>11.46</td>\n",
       "      <td>11.58</td>\n",
       "      <td>11.580000</td>\n",
       "      <td>48615552</td>\n",
       "      <td>0.0</td>\n",
       "      <td>1.0</td>\n",
       "      <td>63.698162</td>\n",
       "      <td>0.331866</td>\n",
       "    </tr>\n",
       "    <tr>\n",
       "      <th>2021-02-22</th>\n",
       "      <td>11.52</td>\n",
       "      <td>11.94</td>\n",
       "      <td>11.50</td>\n",
       "      <td>11.70</td>\n",
       "      <td>11.700000</td>\n",
       "      <td>61488780</td>\n",
       "      <td>0.0</td>\n",
       "      <td>1.0</td>\n",
       "      <td>65.507795</td>\n",
       "      <td>0.328754</td>\n",
       "    </tr>\n",
       "    <tr>\n",
       "      <th>2021-02-23</th>\n",
       "      <td>11.59</td>\n",
       "      <td>11.65</td>\n",
       "      <td>11.13</td>\n",
       "      <td>11.62</td>\n",
       "      <td>11.620000</td>\n",
       "      <td>72904530</td>\n",
       "      <td>0.0</td>\n",
       "      <td>1.0</td>\n",
       "      <td>63.244314</td>\n",
       "      <td>0.150034</td>\n",
       "    </tr>\n",
       "    <tr>\n",
       "      <th>2021-02-24</th>\n",
       "      <td>11.67</td>\n",
       "      <td>12.40</td>\n",
       "      <td>11.64</td>\n",
       "      <td>12.27</td>\n",
       "      <td>12.270000</td>\n",
       "      <td>95152783</td>\n",
       "      <td>0.0</td>\n",
       "      <td>1.0</td>\n",
       "      <td>71.777142</td>\n",
       "      <td>0.823769</td>\n",
       "    </tr>\n",
       "    <tr>\n",
       "      <th>2021-02-25</th>\n",
       "      <td>12.22</td>\n",
       "      <td>12.40</td>\n",
       "      <td>11.72</td>\n",
       "      <td>11.76</td>\n",
       "      <td>11.760000</td>\n",
       "      <td>74495019</td>\n",
       "      <td>0.0</td>\n",
       "      <td>1.0</td>\n",
       "      <td>60.006316</td>\n",
       "      <td>0.000000</td>\n",
       "    </tr>\n",
       "  </tbody>\n",
       "</table>\n",
       "<p>5349 rows × 10 columns</p>\n",
       "</div>"
      ],
      "text/plain": [
       "0            open   high    low  close  adj_close    volume  dividend_amount  \\\n",
       "timestamp                                                                      \n",
       "1999-11-22  50.63  51.38  50.25  50.69  21.536732   3763526              0.0   \n",
       "1999-11-23  51.00  51.06  50.50  50.50  21.456006   3111076              0.0   \n",
       "1999-11-24  50.50  51.88  50.13  51.56  21.906370   2948186              0.0   \n",
       "1999-11-26  51.50  51.56  50.63  50.63  21.511240    945130              0.0   \n",
       "1999-11-29  50.44  51.56  50.31  51.31  21.800152   3204965              0.0   \n",
       "...           ...    ...    ...    ...        ...       ...              ...   \n",
       "2021-02-19  11.52  11.59  11.46  11.58  11.580000  48615552              0.0   \n",
       "2021-02-22  11.52  11.94  11.50  11.70  11.700000  61488780              0.0   \n",
       "2021-02-23  11.59  11.65  11.13  11.62  11.620000  72904530              0.0   \n",
       "2021-02-24  11.67  12.40  11.64  12.27  12.270000  95152783              0.0   \n",
       "2021-02-25  12.22  12.40  11.72  11.76  11.760000  74495019              0.0   \n",
       "\n",
       "0           split_coefficient        RSI      SRSI  \n",
       "timestamp                                           \n",
       "1999-11-22                1.0  26.848837  0.474639  \n",
       "1999-11-23                1.0  26.006340  0.459745  \n",
       "1999-11-24                1.0  37.743530  0.667238  \n",
       "1999-11-26                1.0  32.824007  0.274646  \n",
       "1999-11-29                1.0  39.076797  0.465672  \n",
       "...                       ...        ...       ...  \n",
       "2021-02-19                1.0  63.698162  0.331866  \n",
       "2021-02-22                1.0  65.507795  0.328754  \n",
       "2021-02-23                1.0  63.244314  0.150034  \n",
       "2021-02-24                1.0  71.777142  0.823769  \n",
       "2021-02-25                1.0  60.006316  0.000000  \n",
       "\n",
       "[5349 rows x 10 columns]"
      ]
     },
     "execution_count": 440,
     "metadata": {},
     "output_type": "execute_result"
    }
   ],
   "source": [
    "df"
   ]
  },
  {
   "cell_type": "code",
   "execution_count": 441,
   "metadata": {},
   "outputs": [],
   "source": [
    "spy_10_year = df.copy()[df.index >= '02-25-2011']"
   ]
  },
  {
   "cell_type": "code",
   "execution_count": 442,
   "metadata": {},
   "outputs": [
    {
     "data": {
      "text/html": [
       "<div>\n",
       "<style scoped>\n",
       "    .dataframe tbody tr th:only-of-type {\n",
       "        vertical-align: middle;\n",
       "    }\n",
       "\n",
       "    .dataframe tbody tr th {\n",
       "        vertical-align: top;\n",
       "    }\n",
       "\n",
       "    .dataframe thead th {\n",
       "        text-align: right;\n",
       "    }\n",
       "</style>\n",
       "<table border=\"1\" class=\"dataframe\">\n",
       "  <thead>\n",
       "    <tr style=\"text-align: right;\">\n",
       "      <th></th>\n",
       "      <th>open</th>\n",
       "      <th>high</th>\n",
       "      <th>low</th>\n",
       "      <th>close</th>\n",
       "      <th>adj_close</th>\n",
       "      <th>volume</th>\n",
       "      <th>dividend_amount</th>\n",
       "      <th>split_coefficient</th>\n",
       "      <th>RSI</th>\n",
       "      <th>SRSI</th>\n",
       "    </tr>\n",
       "    <tr>\n",
       "      <th>timestamp</th>\n",
       "      <th></th>\n",
       "      <th></th>\n",
       "      <th></th>\n",
       "      <th></th>\n",
       "      <th></th>\n",
       "      <th></th>\n",
       "      <th></th>\n",
       "      <th></th>\n",
       "      <th></th>\n",
       "      <th></th>\n",
       "    </tr>\n",
       "  </thead>\n",
       "  <tbody>\n",
       "    <tr>\n",
       "      <th>2011-02-25</th>\n",
       "      <td>14.94</td>\n",
       "      <td>15.11</td>\n",
       "      <td>14.85</td>\n",
       "      <td>15.07</td>\n",
       "      <td>10.171709</td>\n",
       "      <td>78341600</td>\n",
       "      <td>0.0</td>\n",
       "      <td>1.0</td>\n",
       "      <td>35.313799</td>\n",
       "      <td>0.412776</td>\n",
       "    </tr>\n",
       "    <tr>\n",
       "      <th>2011-02-28</th>\n",
       "      <td>15.29</td>\n",
       "      <td>15.29</td>\n",
       "      <td>14.89</td>\n",
       "      <td>15.05</td>\n",
       "      <td>10.158210</td>\n",
       "      <td>54120000</td>\n",
       "      <td>0.0</td>\n",
       "      <td>1.0</td>\n",
       "      <td>35.119385</td>\n",
       "      <td>0.400971</td>\n",
       "    </tr>\n",
       "    <tr>\n",
       "      <th>2011-03-01</th>\n",
       "      <td>15.10</td>\n",
       "      <td>15.12</td>\n",
       "      <td>14.60</td>\n",
       "      <td>14.66</td>\n",
       "      <td>9.894974</td>\n",
       "      <td>74337200</td>\n",
       "      <td>0.0</td>\n",
       "      <td>1.0</td>\n",
       "      <td>31.479943</td>\n",
       "      <td>0.179980</td>\n",
       "    </tr>\n",
       "    <tr>\n",
       "      <th>2011-03-02</th>\n",
       "      <td>14.66</td>\n",
       "      <td>14.89</td>\n",
       "      <td>14.62</td>\n",
       "      <td>14.66</td>\n",
       "      <td>9.894974</td>\n",
       "      <td>67127000</td>\n",
       "      <td>0.0</td>\n",
       "      <td>1.0</td>\n",
       "      <td>31.479943</td>\n",
       "      <td>0.179980</td>\n",
       "    </tr>\n",
       "    <tr>\n",
       "      <th>2011-03-03</th>\n",
       "      <td>14.90</td>\n",
       "      <td>14.95</td>\n",
       "      <td>14.66</td>\n",
       "      <td>14.76</td>\n",
       "      <td>9.962470</td>\n",
       "      <td>66720400</td>\n",
       "      <td>0.0</td>\n",
       "      <td>1.0</td>\n",
       "      <td>33.528409</td>\n",
       "      <td>0.304365</td>\n",
       "    </tr>\n",
       "  </tbody>\n",
       "</table>\n",
       "</div>"
      ],
      "text/plain": [
       "0            open   high    low  close  adj_close    volume  dividend_amount  \\\n",
       "timestamp                                                                      \n",
       "2011-02-25  14.94  15.11  14.85  15.07  10.171709  78341600              0.0   \n",
       "2011-02-28  15.29  15.29  14.89  15.05  10.158210  54120000              0.0   \n",
       "2011-03-01  15.10  15.12  14.60  14.66   9.894974  74337200              0.0   \n",
       "2011-03-02  14.66  14.89  14.62  14.66   9.894974  67127000              0.0   \n",
       "2011-03-03  14.90  14.95  14.66  14.76   9.962470  66720400              0.0   \n",
       "\n",
       "0           split_coefficient        RSI      SRSI  \n",
       "timestamp                                           \n",
       "2011-02-25                1.0  35.313799  0.412776  \n",
       "2011-02-28                1.0  35.119385  0.400971  \n",
       "2011-03-01                1.0  31.479943  0.179980  \n",
       "2011-03-02                1.0  31.479943  0.179980  \n",
       "2011-03-03                1.0  33.528409  0.304365  "
      ]
     },
     "execution_count": 442,
     "metadata": {},
     "output_type": "execute_result"
    }
   ],
   "source": [
    "spy_10_year.head()"
   ]
  },
  {
   "cell_type": "code",
   "execution_count": 443,
   "metadata": {},
   "outputs": [
    {
     "data": {
      "text/plain": [
       "<matplotlib.axes._subplots.AxesSubplot at 0x7fd3484f3d00>"
      ]
     },
     "execution_count": 443,
     "metadata": {},
     "output_type": "execute_result"
    },
    {
     "data": {
      "image/png": "[encoded data removed]",
      "text/plain": [
       "<Figure size 432x288 with 1 Axes>"
      ]
     },
     "metadata": {
      "needs_background": "light"
     },
     "output_type": "display_data"
    }
   ],
   "source": [
    "spy_10_year['adj_close'].plot()"
   ]
  },
  {
   "cell_type": "code",
   "execution_count": 444,
   "metadata": {},
   "outputs": [],
   "source": [
    "def calc_return(share_lots, curr_price, days_held):\n",
    "    basis_value = 0\n",
    "    end_value = 0\n",
    "    total_shares = 0\n",
    "    for lot in share_lots:\n",
    "        basis_value += lot['shares']*lot['basis']\n",
    "        end_value += lot['shares']*curr_price\n",
    "        total_shares += lot['shares']\n",
    "        \n",
    "    cumu_gain = (end_value/basis_value)-1\n",
    "    annu_gain = (1 + cumu_gain)**(365/days_held) - 1\n",
    "    \n",
    "    return {\n",
    "        'basis_value': round(basis_value,2),\n",
    "        'end_value': round(end_value,2),\n",
    "        'cumu_gain': round(cumu_gain,3),\n",
    "        'annu_gain': round(annu_gain,3),\n",
    "        'total_shares': round(total_shares,3),\n",
    "        'days_held': days_held,\n",
    "    }"
   ]
  },
  {
   "cell_type": "code",
   "execution_count": 445,
   "metadata": {},
   "outputs": [],
   "source": [
    "share_lots = [\n",
    "    {\n",
    "        'date': 'date',\n",
    "        'shares': 2,\n",
    "        'basis': 150\n",
    "    },\n",
    "    {\n",
    "        'date':'date',\n",
    "        'shares': 2,\n",
    "        'basis': 220\n",
    "    }\n",
    "]"
   ]
  },
  {
   "cell_type": "code",
   "execution_count": 446,
   "metadata": {},
   "outputs": [
    {
     "data": {
      "text/plain": [
       "{'basis_value': 740,\n",
       " 'end_value': 960,\n",
       " 'cumu_gain': 0.297,\n",
       " 'annu_gain': 0.1,\n",
       " 'total_shares': 4,\n",
       " 'days_held': 1000}"
      ]
     },
     "execution_count": 446,
     "metadata": {},
     "output_type": "execute_result"
    }
   ],
   "source": [
    "calc_return(share_lots, 240, 1000)"
   ]
  },
  {
   "cell_type": "code",
   "execution_count": null,
   "metadata": {},
   "outputs": [],
   "source": []
  },
  {
   "cell_type": "code",
   "execution_count": 447,
   "metadata": {},
   "outputs": [],
   "source": [
    "# Investment Config\n",
    "monthly_investment = 500\n",
    "weekly_investment = round(monthly_investment*12/52, 2)\n",
    "daily_investment = round(monthly_investment*12/365.25, 2)"
   ]
  },
  {
   "cell_type": "code",
   "execution_count": 448,
   "metadata": {},
   "outputs": [
    {
     "data": {
      "text/plain": [
       "(500, 115.38, 16.43)"
      ]
     },
     "execution_count": 448,
     "metadata": {},
     "output_type": "execute_result"
    }
   ],
   "source": [
    "monthly_investment, weekly_investment, daily_investment"
   ]
  },
  {
   "cell_type": "code",
   "execution_count": 457,
   "metadata": {},
   "outputs": [],
   "source": [
    "def dca_monthly(ts, monthly_investment, day_of_month=20):\n",
    "    date_range = pd.date_range(ts.index[0], ts.index[-1])\n",
    "    dca_share_lots = []\n",
    "    ready_to_invest = 0\n",
    "    for date in date_range:\n",
    "        if date.day == day_of_month:\n",
    "            ready_to_invest = monthly_investment\n",
    "\n",
    "        if date in ts.index and ready_to_invest > 0:\n",
    "            dca_share_lots.append({\n",
    "                'date': date,\n",
    "                'shares': ready_to_invest/ts.loc[date]['adj_close'],\n",
    "                'basis': ts.loc[date]['adj_close']\n",
    "            })\n",
    "            ready_to_invest = 0\n",
    "\n",
    "    return calc_return(dca_share_lots, ts.iloc[-1]['adj_close'], (ts.index[-1] - ts.index[0]).days)"
   ]
  },
  {
   "cell_type": "code",
   "execution_count": 458,
   "metadata": {},
   "outputs": [],
   "source": [
    "def dca_weekly(ts, monthly_investment, day_of_week=2):\n",
    "    weekly_investment = round(monthly_investment*12/52, 2)\n",
    "    date_range = pd.date_range(ts.index[0], ts.index[-1])\n",
    "    dca_share_lots = []\n",
    "    ready_to_invest = 0\n",
    "    for date in date_range:\n",
    "        if date.dayofweek == day_of_week:\n",
    "            ready_to_invest = weekly_investment\n",
    "\n",
    "        if date in ts.index and ready_to_invest > 0:\n",
    "            dca_share_lots.append({\n",
    "                'date': date,\n",
    "                'shares': ready_to_invest/ts.loc[date]['adj_close'],\n",
    "                'basis': ts.loc[date]['adj_close']\n",
    "            })\n",
    "            ready_to_invest = 0\n",
    "\n",
    "    return calc_return(dca_share_lots, ts.iloc[-1]['adj_close'], (ts.index[-1] - ts.index[0]).days)"
   ]
  },
  {
   "cell_type": "code",
   "execution_count": 459,
   "metadata": {},
   "outputs": [],
   "source": [
    "def dca_daily(ts, monthly_investment):\n",
    "    daily_investment = round(monthly_investment*12/365.25, 2)\n",
    "    date_range = pd.date_range(ts.index[0], ts.index[-1])\n",
    "    dca_share_lots = []\n",
    "    for date in date_range:\n",
    "        if date in ts.index:\n",
    "            dca_share_lots.append({\n",
    "                'date': date,\n",
    "                'shares': daily_investment/ts.loc[date]['adj_close'],\n",
    "                'basis': ts.loc[date]['adj_close']\n",
    "            })\n",
    "\n",
    "    return calc_return(dca_share_lots, ts.iloc[-1]['adj_close'], (ts.index[-1] - ts.index[0]).days)"
   ]
  },
  {
   "cell_type": "code",
   "execution_count": 460,
   "metadata": {},
   "outputs": [],
   "source": [
    "ts = df.copy()[['adj_close']]"
   ]
  },
  {
   "cell_type": "code",
   "execution_count": 461,
   "metadata": {},
   "outputs": [
    {
     "name": "stdout",
     "output_type": "stream",
     "text": [
      "{'basis_value': 127500.0, 'end_value': 215715.16, 'cumu_gain': 0.692, 'annu_gain': 0.025, 'total_shares': 18343.126, 'days_held': 7766}\n",
      "{'basis_value': 128071.8, 'end_value': 213446.76, 'cumu_gain': 0.667, 'annu_gain': 0.024, 'total_shares': 18150.235, 'days_held': 7766}\n",
      "{'basis_value': 87884.07, 'end_value': 146579.5, 'cumu_gain': 0.668, 'annu_gain': 0.024, 'total_shares': 12464.243, 'days_held': 7766}\n"
     ]
    }
   ],
   "source": [
    "print(dca_monthly(ts, monthly_investment))\n",
    "print(dca_weekly(ts, monthly_investment))\n",
    "print(dca_daily(ts, monthly_investment))"
   ]
  },
  {
   "cell_type": "code",
   "execution_count": 454,
   "metadata": {},
   "outputs": [],
   "source": [
    "ts = df.copy()[['adj_close','RSI','SRSI']]"
   ]
  },
  {
   "cell_type": "code",
   "execution_count": 455,
   "metadata": {},
   "outputs": [],
   "source": [
    "def srsi_daily(ts, monthly_investment):\n",
    "    daily_investment = round(monthly_investment*12/365.25, 2)\n",
    "    date_range = pd.date_range(ts.index[0], ts.index[-1])\n",
    "    share_lots = []\n",
    "    balance = 0\n",
    "    for date in date_range:\n",
    "        # accrue daily investment each day poised for investment when SRSI strikes\n",
    "        balance += daily_investment\n",
    "        \n",
    "        if date in ts.index and ts.loc[date]['SRSI'] <= 0.2:\n",
    "            share_lots.append({\n",
    "                'date': date,\n",
    "                'shares': balance/ts.loc[date]['adj_close'],\n",
    "                'basis': ts.loc[date]['adj_close']\n",
    "            })\n",
    "            balance = 0\n",
    "\n",
    "    return calc_return(share_lots, ts.iloc[-1]['adj_close'], (ts.index[-1] - ts.index[0]).days)"
   ]
  },
  {
   "cell_type": "code",
   "execution_count": 456,
   "metadata": {},
   "outputs": [
    {
     "name": "stdout",
     "output_type": "stream",
     "text": [
      "{'basis_value': 127611.81, 'end_value': 212197.21, 'cumu_gain': 0.663, 'annu_gain': 0.024, 'total_shares': 18043.98, 'days_held': 7766}\n"
     ]
    }
   ],
   "source": [
    "print(srsi_daily(ts, monthly_investment))"
   ]
  },
  {
   "cell_type": "code",
   "execution_count": 421,
   "metadata": {},
   "outputs": [
    {
     "data": {
      "text/html": [
       "<div>\n",
       "<style scoped>\n",
       "    .dataframe tbody tr th:only-of-type {\n",
       "        vertical-align: middle;\n",
       "    }\n",
       "\n",
       "    .dataframe tbody tr th {\n",
       "        vertical-align: top;\n",
       "    }\n",
       "\n",
       "    .dataframe thead th {\n",
       "        text-align: right;\n",
       "    }\n",
       "</style>\n",
       "<table border=\"1\" class=\"dataframe\">\n",
       "  <thead>\n",
       "    <tr style=\"text-align: right;\">\n",
       "      <th></th>\n",
       "      <th>adj_close</th>\n",
       "      <th>RSI</th>\n",
       "      <th>SRSI</th>\n",
       "    </tr>\n",
       "    <tr>\n",
       "      <th>timestamp</th>\n",
       "      <th></th>\n",
       "      <th></th>\n",
       "      <th></th>\n",
       "    </tr>\n",
       "  </thead>\n",
       "  <tbody>\n",
       "    <tr>\n",
       "      <th>1999-11-22</th>\n",
       "      <td>0.696846</td>\n",
       "      <td>61.714777</td>\n",
       "      <td>0.000000</td>\n",
       "    </tr>\n",
       "    <tr>\n",
       "      <th>1999-11-23</th>\n",
       "      <td>0.713686</td>\n",
       "      <td>65.414875</td>\n",
       "      <td>0.096646</td>\n",
       "    </tr>\n",
       "    <tr>\n",
       "      <th>1999-11-24</th>\n",
       "      <td>0.728143</td>\n",
       "      <td>68.251510</td>\n",
       "      <td>0.170738</td>\n",
       "    </tr>\n",
       "    <tr>\n",
       "      <th>1999-11-26</th>\n",
       "      <td>0.730988</td>\n",
       "      <td>68.793987</td>\n",
       "      <td>0.184907</td>\n",
       "    </tr>\n",
       "    <tr>\n",
       "      <th>1999-11-29</th>\n",
       "      <td>0.727143</td>\n",
       "      <td>67.124841</td>\n",
       "      <td>0.141309</td>\n",
       "    </tr>\n",
       "  </tbody>\n",
       "</table>\n",
       "</div>"
      ],
      "text/plain": [
       "0           adj_close        RSI      SRSI\n",
       "timestamp                                 \n",
       "1999-11-22   0.696846  61.714777  0.000000\n",
       "1999-11-23   0.713686  65.414875  0.096646\n",
       "1999-11-24   0.728143  68.251510  0.170738\n",
       "1999-11-26   0.730988  68.793987  0.184907\n",
       "1999-11-29   0.727143  67.124841  0.141309"
      ]
     },
     "execution_count": 421,
     "metadata": {},
     "output_type": "execute_result"
    }
   ],
   "source": [
    "ts.head()"
   ]
  },
  {
   "cell_type": "code",
   "execution_count": 422,
   "metadata": {},
   "outputs": [],
   "source": [
    "results = dict()\n",
    "strategies = [\n",
    "    srsi_daily,\n",
    "    dca_monthly,\n",
    "    dca_weekly,\n",
    "    dca_daily\n",
    "]\n",
    "monthly_investment = 500\n",
    "ts_full_length = df.shape[0]\n",
    "num_backtests = 100\n",
    "trading_days_per_year = 253\n",
    "\n",
    "for _ in range(num_backtests):\n",
    "    years = np.random.rand() * (10 - 2) + 2 # 2 to 10 years\n",
    "    trading_period = int(trading_days_per_year*years)\n",
    "    start_day_idx = np.random.randint(ts_full_length-trading_period)\n",
    "    end_day_idx = start_day_idx + trading_period\n",
    "    ts = df.copy().iloc[start_day_idx:end_day_idx]\n",
    "    \n",
    "    for strategy in strategies:\n",
    "            strategy_name = strategy.__name__\n",
    "            if strategy_name not in results:\n",
    "                results[strategy_name] = []\n",
    "\n",
    "            results[strategy_name].append(strategy(ts, monthly_investment))"
   ]
  },
  {
   "cell_type": "code",
   "execution_count": 423,
   "metadata": {},
   "outputs": [
    {
     "name": "stdout",
     "output_type": "stream",
     "text": [
      "srsi_daily\t-->\t20.1% +/- 11.700000000000001% avg annualized return\n"
     ]
    },
    {
     "data": {
      "image/png": "[encoded data removed]",
      "text/plain": [
       "<Figure size 432x288 with 1 Axes>"
      ]
     },
     "metadata": {
      "needs_background": "light"
     },
     "output_type": "display_data"
    },
    {
     "name": "stdout",
     "output_type": "stream",
     "text": [
      "dca_monthly\t-->\t20.1% +/- 11.600000000000001% avg annualized return\n"
     ]
    },
    {
     "data": {
      "image/png": "[encoded data removed]",
      "text/plain": [
       "<Figure size 432x288 with 1 Axes>"
      ]
     },
     "metadata": {
      "needs_background": "light"
     },
     "output_type": "display_data"
    },
    {
     "name": "stdout",
     "output_type": "stream",
     "text": [
      "dca_weekly\t-->\t20.1% +/- 11.600000000000001% avg annualized return\n"
     ]
    },
    {
     "data": {
      "image/png": "[encoded data removed]",
      "text/plain": [
       "<Figure size 432x288 with 1 Axes>"
      ]
     },
     "metadata": {
      "needs_background": "light"
     },
     "output_type": "display_data"
    },
    {
     "name": "stdout",
     "output_type": "stream",
     "text": [
      "dca_daily\t-->\t20.1% +/- 11.600000000000001% avg annualized return\n"
     ]
    },
    {
     "data": {
      "image/png": "[encoded data removed]",
      "text/plain": [
       "<Figure size 432x288 with 1 Axes>"
      ]
     },
     "metadata": {
      "needs_background": "light"
     },
     "output_type": "display_data"
    }
   ],
   "source": [
    "for strat,result in results.items():\n",
    "    annu_gain = pd.DataFrame(results[strat])['annu_gain']\n",
    "    avg_annu_return = round(annu_gain.mean(), 3)\n",
    "    std_annu_return = round(annu_gain.std(), 3)\n",
    "    print(f'{strat}\\t-->\\t{100*avg_annu_return}% +/- {100*std_annu_return}% avg annualized return')\n",
    "    annu_gain.hist()\n",
    "    plt.show()"
   ]
  },
  {
   "cell_type": "code",
   "execution_count": 472,
   "metadata": {},
   "outputs": [],
   "source": [
    "# TODO\n",
    "# Analyze avg number of days RSI <= 30 or >= 70\n",
    "# Setup experiment like before where new money is being invested, but also incrementally or find good proportion to sell when RSI >= 70, then take out taxes and reinvest when dips below 30"
   ]
  },
  {
   "cell_type": "code",
   "execution_count": null,
   "metadata": {},
   "outputs": [],
   "source": []
  }
 ],
 "metadata": {
  "kernelspec": {
   "display_name": "Python 3",
   "language": "python",
   "name": "python3"
  },
  "language_info": {
   "codemirror_mode": {
    "name": "ipython",
    "version": 3
   },
   "file_extension": ".py",
   "mimetype": "text/x-python",
   "name": "python",
   "nbconvert_exporter": "python",
   "pygments_lexer": "ipython3",
   "version": "3.8.3"
  }
 },
 "nbformat": 4,
 "nbformat_minor": 4
}

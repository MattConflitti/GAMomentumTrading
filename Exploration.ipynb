{
 "cells": [
  {
   "cell_type": "code",
   "execution_count": 590,
   "metadata": {},
   "outputs": [],
   "source": [
    "import pandas as pd\n",
    "import numpy as np\n",
    "import pandas_ta as ta\n",
    "from alpha_vantage.timeseries import TimeSeries\n",
    "import matplotlib.pyplot as plt\n",
    "from copy import deepcopy"
   ]
  },
  {
   "cell_type": "code",
   "execution_count": 591,
   "metadata": {},
   "outputs": [],
   "source": [
    "ts = TimeSeries(key='IX5ZSV7I3UUZ3I5B', output_format='csv')"
   ]
  },
  {
   "cell_type": "code",
   "execution_count": 592,
   "metadata": {},
   "outputs": [],
   "source": [
    "from time import sleep"
   ]
  },
  {
   "cell_type": "code",
   "execution_count": 607,
   "metadata": {},
   "outputs": [],
   "source": [
    "ticker = 'AAPL'\n",
    "interval = '30min'\n",
    "dfs = []\n",
    "for i in range(2):\n",
    "    for j in range(12):\n",
    "        data_reader, _ = ts.get_intraday_extended(ticker, interval=interval, slice=f'year{i+1}month{j+1}')\n",
    "        df = pd.DataFrame(data_reader)\n",
    "        df, df.columns = df[1:] , df.iloc[0]\n",
    "        \n",
    "        df['time'] = pd.to_datetime(df['time'])\n",
    "        for c in ['open','high','low','close','volume']:\n",
    "            df[c] = pd.to_numeric(df[c])\n",
    "            \n",
    "        df = df.set_index('time').between_time('09:30:00','16:00:00').sort_index()\n",
    "        df['date'] = pd.to_datetime(df.index.date)\n",
    "        df = df.reset_index()\n",
    "        \n",
    "        dfs.append(df)\n",
    "        sleep(13)"
   ]
  },
  {
   "cell_type": "code",
   "execution_count": 608,
   "metadata": {},
   "outputs": [
    {
     "data": {
      "text/plain": [
       "24"
      ]
     },
     "execution_count": 608,
     "metadata": {},
     "output_type": "execute_result"
    }
   ],
   "source": [
    "len(dfs)"
   ]
  },
  {
   "cell_type": "code",
   "execution_count": 609,
   "metadata": {},
   "outputs": [],
   "source": [
    "df = pd.concat(dfs)"
   ]
  },
  {
   "cell_type": "code",
   "execution_count": 610,
   "metadata": {},
   "outputs": [],
   "source": [
    "date_range = pd.date_range(df['time'].dt.date.min(), df['time'].dt.date.max())\n",
    "index = np.arange(1,len(date_range)+1)\n",
    "date_range_df = pd.DataFrame({\n",
    "    'date': date_range,\n",
    "    'day_index': index\n",
    "})\n",
    "\n",
    "df = df.merge(date_range_df, on='date', how='left')\n",
    "df = df.sort_values('time')"
   ]
  },
  {
   "cell_type": "code",
   "execution_count": 611,
   "metadata": {},
   "outputs": [
    {
     "data": {
      "text/html": [
       "<div>\n",
       "<style scoped>\n",
       "    .dataframe tbody tr th:only-of-type {\n",
       "        vertical-align: middle;\n",
       "    }\n",
       "\n",
       "    .dataframe tbody tr th {\n",
       "        vertical-align: top;\n",
       "    }\n",
       "\n",
       "    .dataframe thead th {\n",
       "        text-align: right;\n",
       "    }\n",
       "</style>\n",
       "<table border=\"1\" class=\"dataframe\">\n",
       "  <thead>\n",
       "    <tr style=\"text-align: right;\">\n",
       "      <th></th>\n",
       "      <th>time</th>\n",
       "      <th>open</th>\n",
       "      <th>high</th>\n",
       "      <th>low</th>\n",
       "      <th>close</th>\n",
       "      <th>volume</th>\n",
       "      <th>date</th>\n",
       "      <th>day_index</th>\n",
       "    </tr>\n",
       "  </thead>\n",
       "  <tbody>\n",
       "    <tr>\n",
       "      <th>6639</th>\n",
       "      <td>2019-02-11 09:30:00</td>\n",
       "      <td>41.977081</td>\n",
       "      <td>41.984438</td>\n",
       "      <td>41.893706</td>\n",
       "      <td>41.930489</td>\n",
       "      <td>152272</td>\n",
       "      <td>2019-02-11</td>\n",
       "      <td>1</td>\n",
       "    </tr>\n",
       "    <tr>\n",
       "      <th>6640</th>\n",
       "      <td>2019-02-11 10:00:00</td>\n",
       "      <td>41.945202</td>\n",
       "      <td>41.984438</td>\n",
       "      <td>41.543038</td>\n",
       "      <td>41.740785</td>\n",
       "      <td>12526440</td>\n",
       "      <td>2019-02-11</td>\n",
       "      <td>1</td>\n",
       "    </tr>\n",
       "    <tr>\n",
       "      <th>6641</th>\n",
       "      <td>2019-02-11 10:30:00</td>\n",
       "      <td>41.741668</td>\n",
       "      <td>41.859374</td>\n",
       "      <td>41.702432</td>\n",
       "      <td>41.793165</td>\n",
       "      <td>8449180</td>\n",
       "      <td>2019-02-11</td>\n",
       "      <td>1</td>\n",
       "    </tr>\n",
       "    <tr>\n",
       "      <th>6642</th>\n",
       "      <td>2019-02-11 11:00:00</td>\n",
       "      <td>41.800521</td>\n",
       "      <td>41.842209</td>\n",
       "      <td>41.690196</td>\n",
       "      <td>41.717146</td>\n",
       "      <td>5941984</td>\n",
       "      <td>2019-02-11</td>\n",
       "      <td>1</td>\n",
       "    </tr>\n",
       "    <tr>\n",
       "      <th>6643</th>\n",
       "      <td>2019-02-11 11:30:00</td>\n",
       "      <td>41.719598</td>\n",
       "      <td>41.729407</td>\n",
       "      <td>41.535682</td>\n",
       "      <td>41.601156</td>\n",
       "      <td>6096172</td>\n",
       "      <td>2019-02-11</td>\n",
       "      <td>1</td>\n",
       "    </tr>\n",
       "  </tbody>\n",
       "</table>\n",
       "</div>"
      ],
      "text/plain": [
       "                    time       open       high        low      close  \\\n",
       "6639 2019-02-11 09:30:00  41.977081  41.984438  41.893706  41.930489   \n",
       "6640 2019-02-11 10:00:00  41.945202  41.984438  41.543038  41.740785   \n",
       "6641 2019-02-11 10:30:00  41.741668  41.859374  41.702432  41.793165   \n",
       "6642 2019-02-11 11:00:00  41.800521  41.842209  41.690196  41.717146   \n",
       "6643 2019-02-11 11:30:00  41.719598  41.729407  41.535682  41.601156   \n",
       "\n",
       "        volume       date  day_index  \n",
       "6639    152272 2019-02-11          1  \n",
       "6640  12526440 2019-02-11          1  \n",
       "6641   8449180 2019-02-11          1  \n",
       "6642   5941984 2019-02-11          1  \n",
       "6643   6096172 2019-02-11          1  "
      ]
     },
     "execution_count": 611,
     "metadata": {},
     "output_type": "execute_result"
    }
   ],
   "source": [
    "df.head()"
   ]
  },
  {
   "cell_type": "code",
   "execution_count": 616,
   "metadata": {},
   "outputs": [],
   "source": [
    "filename = f\"{ticker}_{interval}_{df['date'].min().strftime('%Y-%m-%d')}_{df['date'].max().strftime('%Y-%m-%d')}.pkl\"\n",
    "df.reset_index(drop=True).to_pickle(filename)"
   ]
  },
  {
   "cell_type": "code",
   "execution_count": 125,
   "metadata": {},
   "outputs": [],
   "source": [
    "data_reader, _ = ts.get_intraday_extended('SPY', interval='30min', slice='year1month2')"
   ]
  },
  {
   "cell_type": "code",
   "execution_count": 126,
   "metadata": {},
   "outputs": [],
   "source": [
    "df = pd.DataFrame(data_reader)\n",
    "df, df.columns = df[1:] , df.iloc[0]"
   ]
  },
  {
   "cell_type": "code",
   "execution_count": 127,
   "metadata": {},
   "outputs": [],
   "source": [
    "df['time'] = pd.to_datetime(df['time'])\n",
    "for c in ['open','high','low','close','volume']:\n",
    "    df[c] = pd.to_numeric(df[c])"
   ]
  },
  {
   "cell_type": "code",
   "execution_count": 128,
   "metadata": {},
   "outputs": [],
   "source": [
    "df = df.set_index('time').between_time('09:30:00','16:00:00').sort_index()"
   ]
  },
  {
   "cell_type": "code",
   "execution_count": 129,
   "metadata": {},
   "outputs": [
    {
     "data": {
      "text/plain": [
       "<matplotlib.axes._subplots.AxesSubplot at 0x7fdcac659c40>"
      ]
     },
     "execution_count": 129,
     "metadata": {},
     "output_type": "execute_result"
    },
    {
     "data": {
      "image/png": "[encoded data removed]",
      "text/plain": [
       "<Figure size 432x288 with 1 Axes>"
      ]
     },
     "metadata": {
      "needs_background": "light"
     },
     "output_type": "display_data"
    }
   ],
   "source": [
    "df.reset_index(drop=True)['close'].plot()"
   ]
  },
  {
   "cell_type": "code",
   "execution_count": 130,
   "metadata": {},
   "outputs": [],
   "source": [
    "df2 = df.copy()\n",
    "df2['date'] = pd.to_datetime(df2.index.date)"
   ]
  },
  {
   "cell_type": "code",
   "execution_count": 131,
   "metadata": {},
   "outputs": [
    {
     "data": {
      "text/html": [
       "<div>\n",
       "<style scoped>\n",
       "    .dataframe tbody tr th:only-of-type {\n",
       "        vertical-align: middle;\n",
       "    }\n",
       "\n",
       "    .dataframe tbody tr th {\n",
       "        vertical-align: top;\n",
       "    }\n",
       "\n",
       "    .dataframe thead th {\n",
       "        text-align: right;\n",
       "    }\n",
       "</style>\n",
       "<table border=\"1\" class=\"dataframe\">\n",
       "  <thead>\n",
       "    <tr style=\"text-align: right;\">\n",
       "      <th></th>\n",
       "      <th>open</th>\n",
       "      <th>high</th>\n",
       "      <th>low</th>\n",
       "      <th>close</th>\n",
       "      <th>volume</th>\n",
       "      <th>date</th>\n",
       "    </tr>\n",
       "    <tr>\n",
       "      <th>time</th>\n",
       "      <th></th>\n",
       "      <th></th>\n",
       "      <th></th>\n",
       "      <th></th>\n",
       "      <th></th>\n",
       "      <th></th>\n",
       "    </tr>\n",
       "  </thead>\n",
       "  <tbody>\n",
       "    <tr>\n",
       "      <th>2020-11-27 09:30:00</th>\n",
       "      <td>362.279532</td>\n",
       "      <td>362.598169</td>\n",
       "      <td>362.279532</td>\n",
       "      <td>362.279532</td>\n",
       "      <td>122465</td>\n",
       "      <td>2020-11-27</td>\n",
       "    </tr>\n",
       "    <tr>\n",
       "      <th>2020-11-27 10:00:00</th>\n",
       "      <td>362.289490</td>\n",
       "      <td>362.598169</td>\n",
       "      <td>361.970853</td>\n",
       "      <td>362.127184</td>\n",
       "      <td>4009912</td>\n",
       "      <td>2020-11-27</td>\n",
       "    </tr>\n",
       "    <tr>\n",
       "      <th>2020-11-27 10:30:00</th>\n",
       "      <td>362.130172</td>\n",
       "      <td>362.628041</td>\n",
       "      <td>362.050512</td>\n",
       "      <td>362.448808</td>\n",
       "      <td>5079658</td>\n",
       "      <td>2020-11-27</td>\n",
       "    </tr>\n",
       "    <tr>\n",
       "      <th>2020-11-27 11:00:00</th>\n",
       "      <td>362.458765</td>\n",
       "      <td>362.588211</td>\n",
       "      <td>362.309404</td>\n",
       "      <td>362.448808</td>\n",
       "      <td>2168106</td>\n",
       "      <td>2020-11-27</td>\n",
       "    </tr>\n",
       "    <tr>\n",
       "      <th>2020-11-27 11:30:00</th>\n",
       "      <td>362.428893</td>\n",
       "      <td>362.578254</td>\n",
       "      <td>362.130172</td>\n",
       "      <td>362.249660</td>\n",
       "      <td>2306981</td>\n",
       "      <td>2020-11-27</td>\n",
       "    </tr>\n",
       "    <tr>\n",
       "      <th>...</th>\n",
       "      <td>...</td>\n",
       "      <td>...</td>\n",
       "      <td>...</td>\n",
       "      <td>...</td>\n",
       "      <td>...</td>\n",
       "      <td>...</td>\n",
       "    </tr>\n",
       "    <tr>\n",
       "      <th>2020-12-24 12:00:00</th>\n",
       "      <td>367.989900</td>\n",
       "      <td>368.150000</td>\n",
       "      <td>367.625000</td>\n",
       "      <td>367.870000</td>\n",
       "      <td>2319877</td>\n",
       "      <td>2020-12-24</td>\n",
       "    </tr>\n",
       "    <tr>\n",
       "      <th>2020-12-24 12:30:00</th>\n",
       "      <td>367.880000</td>\n",
       "      <td>368.210000</td>\n",
       "      <td>367.450000</td>\n",
       "      <td>368.190000</td>\n",
       "      <td>2568752</td>\n",
       "      <td>2020-12-24</td>\n",
       "    </tr>\n",
       "    <tr>\n",
       "      <th>2020-12-24 13:00:00</th>\n",
       "      <td>368.210000</td>\n",
       "      <td>369.010000</td>\n",
       "      <td>368.160000</td>\n",
       "      <td>368.989900</td>\n",
       "      <td>6807531</td>\n",
       "      <td>2020-12-24</td>\n",
       "    </tr>\n",
       "    <tr>\n",
       "      <th>2020-12-24 13:30:00</th>\n",
       "      <td>368.970000</td>\n",
       "      <td>369.030000</td>\n",
       "      <td>368.970000</td>\n",
       "      <td>369.000000</td>\n",
       "      <td>686475</td>\n",
       "      <td>2020-12-24</td>\n",
       "    </tr>\n",
       "    <tr>\n",
       "      <th>2020-12-24 16:00:00</th>\n",
       "      <td>369.000000</td>\n",
       "      <td>369.000000</td>\n",
       "      <td>369.000000</td>\n",
       "      <td>369.000000</td>\n",
       "      <td>0</td>\n",
       "      <td>2020-12-24</td>\n",
       "    </tr>\n",
       "  </tbody>\n",
       "</table>\n",
       "<p>272 rows × 6 columns</p>\n",
       "</div>"
      ],
      "text/plain": [
       "0                          open        high         low       close   volume  \\\n",
       "time                                                                           \n",
       "2020-11-27 09:30:00  362.279532  362.598169  362.279532  362.279532   122465   \n",
       "2020-11-27 10:00:00  362.289490  362.598169  361.970853  362.127184  4009912   \n",
       "2020-11-27 10:30:00  362.130172  362.628041  362.050512  362.448808  5079658   \n",
       "2020-11-27 11:00:00  362.458765  362.588211  362.309404  362.448808  2168106   \n",
       "2020-11-27 11:30:00  362.428893  362.578254  362.130172  362.249660  2306981   \n",
       "...                         ...         ...         ...         ...      ...   \n",
       "2020-12-24 12:00:00  367.989900  368.150000  367.625000  367.870000  2319877   \n",
       "2020-12-24 12:30:00  367.880000  368.210000  367.450000  368.190000  2568752   \n",
       "2020-12-24 13:00:00  368.210000  369.010000  368.160000  368.989900  6807531   \n",
       "2020-12-24 13:30:00  368.970000  369.030000  368.970000  369.000000   686475   \n",
       "2020-12-24 16:00:00  369.000000  369.000000  369.000000  369.000000        0   \n",
       "\n",
       "0                         date  \n",
       "time                            \n",
       "2020-11-27 09:30:00 2020-11-27  \n",
       "2020-11-27 10:00:00 2020-11-27  \n",
       "2020-11-27 10:30:00 2020-11-27  \n",
       "2020-11-27 11:00:00 2020-11-27  \n",
       "2020-11-27 11:30:00 2020-11-27  \n",
       "...                        ...  \n",
       "2020-12-24 12:00:00 2020-12-24  \n",
       "2020-12-24 12:30:00 2020-12-24  \n",
       "2020-12-24 13:00:00 2020-12-24  \n",
       "2020-12-24 13:30:00 2020-12-24  \n",
       "2020-12-24 16:00:00 2020-12-24  \n",
       "\n",
       "[272 rows x 6 columns]"
      ]
     },
     "execution_count": 131,
     "metadata": {},
     "output_type": "execute_result"
    }
   ],
   "source": [
    "df2"
   ]
  },
  {
   "cell_type": "code",
   "execution_count": 132,
   "metadata": {},
   "outputs": [],
   "source": [
    "date_range = pd.date_range(df2.index.date.min(), df2.index.date.max())\n",
    "index = np.arange(1,len(date_range)+1)\n",
    "date_range_df = pd.DataFrame({\n",
    "    'date': date_range,\n",
    "    'day_index': index\n",
    "})"
   ]
  },
  {
   "cell_type": "code",
   "execution_count": 133,
   "metadata": {},
   "outputs": [],
   "source": [
    "df2 = df2.reset_index().merge(date_range_df, on='date', how='left')"
   ]
  },
  {
   "cell_type": "code",
   "execution_count": 134,
   "metadata": {},
   "outputs": [
    {
     "data": {
      "text/html": [
       "<div>\n",
       "<style scoped>\n",
       "    .dataframe tbody tr th:only-of-type {\n",
       "        vertical-align: middle;\n",
       "    }\n",
       "\n",
       "    .dataframe tbody tr th {\n",
       "        vertical-align: top;\n",
       "    }\n",
       "\n",
       "    .dataframe thead th {\n",
       "        text-align: right;\n",
       "    }\n",
       "</style>\n",
       "<table border=\"1\" class=\"dataframe\">\n",
       "  <thead>\n",
       "    <tr style=\"text-align: right;\">\n",
       "      <th></th>\n",
       "      <th>time</th>\n",
       "      <th>open</th>\n",
       "      <th>high</th>\n",
       "      <th>low</th>\n",
       "      <th>close</th>\n",
       "      <th>volume</th>\n",
       "      <th>date</th>\n",
       "      <th>day_index</th>\n",
       "    </tr>\n",
       "  </thead>\n",
       "  <tbody>\n",
       "    <tr>\n",
       "      <th>0</th>\n",
       "      <td>2020-11-27 09:30:00</td>\n",
       "      <td>362.279532</td>\n",
       "      <td>362.598169</td>\n",
       "      <td>362.279532</td>\n",
       "      <td>362.279532</td>\n",
       "      <td>122465</td>\n",
       "      <td>2020-11-27</td>\n",
       "      <td>1</td>\n",
       "    </tr>\n",
       "    <tr>\n",
       "      <th>1</th>\n",
       "      <td>2020-11-27 10:00:00</td>\n",
       "      <td>362.289490</td>\n",
       "      <td>362.598169</td>\n",
       "      <td>361.970853</td>\n",
       "      <td>362.127184</td>\n",
       "      <td>4009912</td>\n",
       "      <td>2020-11-27</td>\n",
       "      <td>1</td>\n",
       "    </tr>\n",
       "    <tr>\n",
       "      <th>2</th>\n",
       "      <td>2020-11-27 10:30:00</td>\n",
       "      <td>362.130172</td>\n",
       "      <td>362.628041</td>\n",
       "      <td>362.050512</td>\n",
       "      <td>362.448808</td>\n",
       "      <td>5079658</td>\n",
       "      <td>2020-11-27</td>\n",
       "      <td>1</td>\n",
       "    </tr>\n",
       "    <tr>\n",
       "      <th>3</th>\n",
       "      <td>2020-11-27 11:00:00</td>\n",
       "      <td>362.458765</td>\n",
       "      <td>362.588211</td>\n",
       "      <td>362.309404</td>\n",
       "      <td>362.448808</td>\n",
       "      <td>2168106</td>\n",
       "      <td>2020-11-27</td>\n",
       "      <td>1</td>\n",
       "    </tr>\n",
       "    <tr>\n",
       "      <th>4</th>\n",
       "      <td>2020-11-27 11:30:00</td>\n",
       "      <td>362.428893</td>\n",
       "      <td>362.578254</td>\n",
       "      <td>362.130172</td>\n",
       "      <td>362.249660</td>\n",
       "      <td>2306981</td>\n",
       "      <td>2020-11-27</td>\n",
       "      <td>1</td>\n",
       "    </tr>\n",
       "    <tr>\n",
       "      <th>...</th>\n",
       "      <td>...</td>\n",
       "      <td>...</td>\n",
       "      <td>...</td>\n",
       "      <td>...</td>\n",
       "      <td>...</td>\n",
       "      <td>...</td>\n",
       "      <td>...</td>\n",
       "      <td>...</td>\n",
       "    </tr>\n",
       "    <tr>\n",
       "      <th>267</th>\n",
       "      <td>2020-12-24 12:00:00</td>\n",
       "      <td>367.989900</td>\n",
       "      <td>368.150000</td>\n",
       "      <td>367.625000</td>\n",
       "      <td>367.870000</td>\n",
       "      <td>2319877</td>\n",
       "      <td>2020-12-24</td>\n",
       "      <td>28</td>\n",
       "    </tr>\n",
       "    <tr>\n",
       "      <th>268</th>\n",
       "      <td>2020-12-24 12:30:00</td>\n",
       "      <td>367.880000</td>\n",
       "      <td>368.210000</td>\n",
       "      <td>367.450000</td>\n",
       "      <td>368.190000</td>\n",
       "      <td>2568752</td>\n",
       "      <td>2020-12-24</td>\n",
       "      <td>28</td>\n",
       "    </tr>\n",
       "    <tr>\n",
       "      <th>269</th>\n",
       "      <td>2020-12-24 13:00:00</td>\n",
       "      <td>368.210000</td>\n",
       "      <td>369.010000</td>\n",
       "      <td>368.160000</td>\n",
       "      <td>368.989900</td>\n",
       "      <td>6807531</td>\n",
       "      <td>2020-12-24</td>\n",
       "      <td>28</td>\n",
       "    </tr>\n",
       "    <tr>\n",
       "      <th>270</th>\n",
       "      <td>2020-12-24 13:30:00</td>\n",
       "      <td>368.970000</td>\n",
       "      <td>369.030000</td>\n",
       "      <td>368.970000</td>\n",
       "      <td>369.000000</td>\n",
       "      <td>686475</td>\n",
       "      <td>2020-12-24</td>\n",
       "      <td>28</td>\n",
       "    </tr>\n",
       "    <tr>\n",
       "      <th>271</th>\n",
       "      <td>2020-12-24 16:00:00</td>\n",
       "      <td>369.000000</td>\n",
       "      <td>369.000000</td>\n",
       "      <td>369.000000</td>\n",
       "      <td>369.000000</td>\n",
       "      <td>0</td>\n",
       "      <td>2020-12-24</td>\n",
       "      <td>28</td>\n",
       "    </tr>\n",
       "  </tbody>\n",
       "</table>\n",
       "<p>272 rows × 8 columns</p>\n",
       "</div>"
      ],
      "text/plain": [
       "                   time        open        high         low       close  \\\n",
       "0   2020-11-27 09:30:00  362.279532  362.598169  362.279532  362.279532   \n",
       "1   2020-11-27 10:00:00  362.289490  362.598169  361.970853  362.127184   \n",
       "2   2020-11-27 10:30:00  362.130172  362.628041  362.050512  362.448808   \n",
       "3   2020-11-27 11:00:00  362.458765  362.588211  362.309404  362.448808   \n",
       "4   2020-11-27 11:30:00  362.428893  362.578254  362.130172  362.249660   \n",
       "..                  ...         ...         ...         ...         ...   \n",
       "267 2020-12-24 12:00:00  367.989900  368.150000  367.625000  367.870000   \n",
       "268 2020-12-24 12:30:00  367.880000  368.210000  367.450000  368.190000   \n",
       "269 2020-12-24 13:00:00  368.210000  369.010000  368.160000  368.989900   \n",
       "270 2020-12-24 13:30:00  368.970000  369.030000  368.970000  369.000000   \n",
       "271 2020-12-24 16:00:00  369.000000  369.000000  369.000000  369.000000   \n",
       "\n",
       "      volume       date  day_index  \n",
       "0     122465 2020-11-27          1  \n",
       "1    4009912 2020-11-27          1  \n",
       "2    5079658 2020-11-27          1  \n",
       "3    2168106 2020-11-27          1  \n",
       "4    2306981 2020-11-27          1  \n",
       "..       ...        ...        ...  \n",
       "267  2319877 2020-12-24         28  \n",
       "268  2568752 2020-12-24         28  \n",
       "269  6807531 2020-12-24         28  \n",
       "270   686475 2020-12-24         28  \n",
       "271        0 2020-12-24         28  \n",
       "\n",
       "[272 rows x 8 columns]"
      ]
     },
     "execution_count": 134,
     "metadata": {},
     "output_type": "execute_result"
    }
   ],
   "source": [
    "df2"
   ]
  },
  {
   "cell_type": "code",
   "execution_count": 135,
   "metadata": {},
   "outputs": [],
   "source": [
    "df2.to_pickle('SPY_year1month2.pkl')"
   ]
  },
  {
   "cell_type": "code",
   "execution_count": null,
   "metadata": {},
   "outputs": [],
   "source": []
  },
  {
   "cell_type": "code",
   "execution_count": 618,
   "metadata": {},
   "outputs": [],
   "source": [
    "ts = pd.read_pickle('AAPL_30min_2019-02-11_2021-01-29.pkl')"
   ]
  },
  {
   "cell_type": "code",
   "execution_count": 619,
   "metadata": {},
   "outputs": [
    {
     "data": {
      "text/plain": [
       "<matplotlib.axes._subplots.AxesSubplot at 0x7fdcae3ac8e0>"
      ]
     },
     "execution_count": 619,
     "metadata": {},
     "output_type": "execute_result"
    },
    {
     "data": {
      "image/png": "[encoded data removed]",
      "text/plain": [
       "<Figure size 432x288 with 1 Axes>"
      ]
     },
     "metadata": {
      "needs_background": "light"
     },
     "output_type": "display_data"
    }
   ],
   "source": [
    "ts['close'].plot()"
   ]
  },
  {
   "cell_type": "code",
   "execution_count": 269,
   "metadata": {},
   "outputs": [],
   "source": [
    "starting_cash = 50\n",
    "starting_shares = TRADER_START_AMT / ts.iloc[0]['close']\n",
    "starting_value = TRADER_START_AMT"
   ]
  },
  {
   "cell_type": "code",
   "execution_count": 270,
   "metadata": {},
   "outputs": [],
   "source": [
    "strat = init_strategy()"
   ]
  },
  {
   "cell_type": "code",
   "execution_count": 271,
   "metadata": {},
   "outputs": [],
   "source": [
    "strat = {'inc_trigger_pct': 0.008,\n",
    " 'inc_trigger_sell_shares_pct': 0.2,\n",
    " 'dec_trigger_pct': 0.005,\n",
    " 'dec_trigger_buy_shares_pct': 0.6}"
   ]
  },
  {
   "cell_type": "code",
   "execution_count": 272,
   "metadata": {},
   "outputs": [
    {
     "data": {
      "text/plain": [
       "{'inc_trigger_pct': 0.008,\n",
       " 'inc_trigger_sell_shares_pct': 0.2,\n",
       " 'dec_trigger_pct': 0.005,\n",
       " 'dec_trigger_buy_shares_pct': 0.6}"
      ]
     },
     "execution_count": 272,
     "metadata": {},
     "output_type": "execute_result"
    }
   ],
   "source": [
    "strat"
   ]
  },
  {
   "cell_type": "code",
   "execution_count": 273,
   "metadata": {},
   "outputs": [],
   "source": [
    "closes_days = ts.iloc[1:-1][['close', 'day_index']].values"
   ]
  },
  {
   "cell_type": "code",
   "execution_count": 282,
   "metadata": {},
   "outputs": [],
   "source": [
    "cash = starting_cash\n",
    "shares = starting_shares\n",
    "value = starting_value"
   ]
  },
  {
   "cell_type": "code",
   "execution_count": 283,
   "metadata": {},
   "outputs": [
    {
     "data": {
      "text/plain": [
       "100"
      ]
     },
     "execution_count": 283,
     "metadata": {},
     "output_type": "execute_result"
    }
   ],
   "source": [
    "value"
   ]
  },
  {
   "cell_type": "code",
   "execution_count": 284,
   "metadata": {},
   "outputs": [],
   "source": [
    "# TODO fix day trading logic to allow for multiple buys in a day but only one sell per day"
   ]
  },
  {
   "cell_type": "code",
   "execution_count": 285,
   "metadata": {},
   "outputs": [],
   "source": [
    "# day_idx_last_sell = 0\n",
    "num_buys = 0\n",
    "num_sells = 0\n",
    "for close, day_idx in closes_days:\n",
    "    pct_change = (close*shares)/value - 1\n",
    "#     print(day_idx, np.round(close,2), np.round(pct_change,3))\n",
    "    \n",
    "    if pct_change >= strat['inc_trigger_pct']:\n",
    "#         if day_idx_last_buy < day_idx:\n",
    "#         print('SELL')\n",
    "        num_sell_shares = strat['inc_trigger_sell_shares_pct']*shares\n",
    "        cash += num_sell_shares*close\n",
    "        shares -= num_sell_shares\n",
    "        value = shares*close\n",
    "\n",
    "        num_sells += 1\n",
    "            \n",
    "#             day_idx_last_sell = day_idx\n",
    "        \n",
    "#         print(f'Shares/Cash: {np.round(shares,4)}/{np.round(cash,2)}')\n",
    "#         print('Total Value:', np.round(shares*close + cash,2))\n",
    "    \n",
    "    if pct_change <= -strat['dec_trigger_pct']:\n",
    "            \n",
    "            num_buy_shares = strat['dec_trigger_buy_shares_pct']*shares\n",
    "            cash_needed = num_buy_shares*close\n",
    "            if cash_needed > cash:\n",
    "                num_buy_shares = cash/close\n",
    "            \n",
    "            if np.round(num_buy_shares, 3) == 0:\n",
    "                continue\n",
    "            \n",
    "#             print('BUY')\n",
    "            num_buys += 1\n",
    "            \n",
    "            cash -= num_buy_shares*close\n",
    "            shares += num_buy_shares\n",
    "            value = shares*close\n",
    "        \n",
    "#             print(f'Shares/Cash: {np.round(shares,4)}/{np.round(cash,2)}')\n",
    "#             print('Total Value:', np.round(shares*close + cash,2))\n",
    "            \n",
    "# print(f'# Buys/Sells: {num_buys}/{num_sells}')"
   ]
  },
  {
   "cell_type": "code",
   "execution_count": 286,
   "metadata": {},
   "outputs": [
    {
     "data": {
      "text/plain": [
       "(153.13459654018615, 0.020897310267907754)"
      ]
     },
     "execution_count": 286,
     "metadata": {},
     "output_type": "execute_result"
    }
   ],
   "source": [
    "ending_value = (shares * ts.iloc[-1]['close']) + cash\n",
    "roi = ending_value/(starting_value+starting_cash) - 1\n",
    "ending_value, roi"
   ]
  },
  {
   "cell_type": "code",
   "execution_count": 353,
   "metadata": {},
   "outputs": [
    {
     "data": {
      "text/plain": [
       "(152.78257550672734, 0.018550503378182315)"
      ]
     },
     "execution_count": 353,
     "metadata": {},
     "output_type": "execute_result"
    }
   ],
   "source": [
    "ending_value = ts.iloc[-1]['close'] * ((starting_value+starting_cash) / ts.iloc[0]['close'])\n",
    "roi = ending_value/(starting_value+starting_cash) - 1\n",
    "ending_value, roi"
   ]
  },
  {
   "cell_type": "code",
   "execution_count": 268,
   "metadata": {},
   "outputs": [
    {
     "data": {
      "text/plain": [
       "0.0057268882510000015"
      ]
     },
     "execution_count": 268,
     "metadata": {},
     "output_type": "execute_result"
    }
   ],
   "source": [
    "0.024277391621-0.01855050337"
   ]
  },
  {
   "cell_type": "code",
   "execution_count": 574,
   "metadata": {},
   "outputs": [],
   "source": [
    "TRADER_START_VALUE = 100\n",
    "TRADER_START_CASH = 100\n",
    "POP_SIZE = 100\n",
    "NUM_EPOCHS = 250\n",
    "NUM_ELITES = 3"
   ]
  },
  {
   "cell_type": "code",
   "execution_count": 555,
   "metadata": {},
   "outputs": [],
   "source": [
    "def init_strategy():\n",
    "    strat = {\n",
    "        'inc_trigger_pct': np.random.uniform(low=0.001, high=0.1),\n",
    "        'inc_trigger_sell_shares_pct': np.random.uniform(low=0.001, high=0.1),\n",
    "        'dec_trigger_pct': np.random.uniform(low=0.001, high=0.1),\n",
    "        'dec_trigger_buy_shares_pct': np.random.uniform(low=0.001, high=0.1),\n",
    "    }\n",
    "    for k in strat.keys():\n",
    "        strat[k] = np.round(strat[k],4)\n",
    "    \n",
    "    return strat"
   ]
  },
  {
   "cell_type": "code",
   "execution_count": 556,
   "metadata": {},
   "outputs": [],
   "source": [
    "# https://novelinvestor.com/choose-right-default-cost-basis-method/\n",
    "# https://www.investopedia.com/terms/c/costbasis.asp\n",
    "# Avg Cost Basis for Funds\n",
    "# Highest Cost basis may be best for frequent trades...will need to probably test multiple methods for stocks\n",
    "# Write code for highest cost basis with stock lots\n",
    "# Tax optimizations??"
   ]
  },
  {
   "cell_type": "code",
   "execution_count": 557,
   "metadata": {},
   "outputs": [],
   "source": [
    "def calc_highest_cost_basis_gain_loss(num_shares, curr_price, share_lots):\n",
    "    if num_shares > np.sum([s['num_shares'] for s in share_lots]):\n",
    "        raise ValueError('Cannot sell more shares than bought!')\n",
    "\n",
    "    sorted_cost_bases = sorted(share_lots, key=lambda x: -x['cost_basis'])\n",
    "    lot_matchups = []\n",
    "    shares_left_to_apply = num_shares\n",
    "    for cost_basis in sorted_cost_bases:\n",
    "        applicable_shares = 0\n",
    "        applicable_cost_basis = cost_basis['cost_basis']\n",
    "        \n",
    "        if cost_basis['num_shares'] >= shares_left_to_apply:\n",
    "            applicable_shares = shares_left_to_apply\n",
    "            cost_basis['num_shares'] -= applicable_shares\n",
    "            shares_left_to_apply -= applicable_shares\n",
    "            \n",
    "            lot_matchups.append((applicable_shares, applicable_cost_basis))\n",
    "        else:\n",
    "            applicable_shares = cost_basis['num_shares']\n",
    "            cost_basis['num_shares'] -= applicable_shares\n",
    "            shares_left_to_apply -= applicable_shares\n",
    "            \n",
    "            lot_matchups.append((applicable_shares, applicable_cost_basis))\n",
    "            \n",
    "        if shares_left_to_apply == 0:\n",
    "            break\n",
    "    \n",
    "    total_gain_loss = 0\n",
    "    for lot_matchup in lot_matchups:\n",
    "        \n",
    "        sale_proceeds = lot_matchup[0]*curr_price\n",
    "        sale_cost_basis = lot_matchup[0]*lot_matchup[1]\n",
    "        total_gain_loss += sale_proceeds - sale_cost_basis\n",
    "        \n",
    "    return total_gain_loss\n",
    "\n",
    "def clean_share_lots(share_lots):\n",
    "    return [ s for s in share_lots if s['num_shares'] > 0 ]"
   ]
  },
  {
   "cell_type": "code",
   "execution_count": 558,
   "metadata": {},
   "outputs": [],
   "source": [
    "share_lots = [\n",
    "    {\n",
    "        'num_shares': 5,\n",
    "        'cost_basis': 10\n",
    "    },\n",
    "    {\n",
    "        'num_shares': 5,\n",
    "        'cost_basis': 5\n",
    "    },\n",
    "    {\n",
    "        'num_shares': 17,\n",
    "        'cost_basis': 90\n",
    "    },\n",
    "]\n",
    "\n",
    "calc_highest_cost_basis_gain_loss(10, 100, share_lots)\n",
    "share_lots = clean_share_lots(share_lots)"
   ]
  },
  {
   "cell_type": "code",
   "execution_count": 559,
   "metadata": {},
   "outputs": [
    {
     "data": {
      "text/plain": [
       "[{'num_shares': 5, 'cost_basis': 10},\n",
       " {'num_shares': 5, 'cost_basis': 5},\n",
       " {'num_shares': 7, 'cost_basis': 90}]"
      ]
     },
     "execution_count": 559,
     "metadata": {},
     "output_type": "execute_result"
    }
   ],
   "source": [
    "clean_share_lots(share_lots)"
   ]
  },
  {
   "cell_type": "code",
   "execution_count": 575,
   "metadata": {},
   "outputs": [],
   "source": [
    "def run_sim(strat, ts):\n",
    "    starting_cash = TRADER_START_CASH\n",
    "    starting_shares = TRADER_START_VALUE / ts.iloc[0]['close']\n",
    "    starting_value = TRADER_START_VALUE\n",
    "    \n",
    "    starting_paid = starting_value\n",
    "    starting_cost_basis = starting_paid / starting_shares\n",
    "    \n",
    "    cash = starting_cash\n",
    "    total_tax_holdout = 0\n",
    "    tax_rate = 0.22\n",
    "    shares = starting_shares\n",
    "    value = starting_value\n",
    "    \n",
    "    total_paid = starting_paid\n",
    "    total_paid_shares = starting_shares\n",
    "    avg_cost_basis = starting_cost_basis\n",
    "    \n",
    "    closes_days = ts.iloc[1:-1][['close', 'day_index']].values\n",
    "    \n",
    "    share_lots = [\n",
    "        {\n",
    "            'num_shares': starting_shares,\n",
    "            'cost_basis': ts.iloc[0]['close']\n",
    "        }\n",
    "    ]\n",
    "    \n",
    "    day_idx_last_sell = 0\n",
    "    day_idx_last_buy = 0\n",
    "    num_buys = 0\n",
    "    num_sells = 0\n",
    "    for close, day_idx in closes_days:\n",
    "        pct_change = (close*shares)/value - 1\n",
    "\n",
    "        if pct_change >= strat['inc_trigger_pct']:\n",
    "            # can only sell when no buying has occurred yet\n",
    "            if day_idx_last_buy < day_idx:\n",
    "                num_sell_shares = strat['inc_trigger_sell_shares_pct']*shares\n",
    "                \n",
    "                gain_loss = calc_highest_cost_basis_gain_loss(num_sell_shares, close, share_lots)\n",
    "                share_lots = clean_share_lots(share_lots)\n",
    "                \n",
    "                taxes = gain_loss*tax_rate\n",
    "                \n",
    "                total_tax_holdout += taxes\n",
    "                cash += (num_sell_shares*close) - taxes\n",
    "                shares -= num_sell_shares\n",
    "                value = shares*close\n",
    "\n",
    "                num_sells += 1\n",
    "\n",
    "                day_idx_last_sell = day_idx\n",
    "\n",
    "        if pct_change <= -strat['dec_trigger_pct']:\n",
    "            num_buy_shares = strat['dec_trigger_buy_shares_pct']*shares\n",
    "            cash_needed = num_buy_shares*close\n",
    "            if cash_needed > cash:\n",
    "                num_buy_shares = cash/close\n",
    "\n",
    "            if np.round(num_buy_shares, 3) == 0:\n",
    "                continue\n",
    "            num_buys += 1\n",
    "\n",
    "            cash -= num_buy_shares*close\n",
    "            shares += num_buy_shares\n",
    "            value = shares*close\n",
    "                \n",
    "            day_idx_last_buy = day_idx\n",
    "            \n",
    "            share_lots.append({\n",
    "                'num_shares': num_buy_shares,\n",
    "                'cost_basis': close\n",
    "            })\n",
    "        \n",
    "#             total_paid += num_buy_shares*close\n",
    "#             total_paid_shares += num_buy_shares\n",
    "#             if shares > 0:\n",
    "#                 avg_cost_basis = round(total_paid / total_paid_shares, 2)\n",
    "#             else:\n",
    "#                 total_paid = 0\n",
    "#                 shares = 0\n",
    "    \n",
    "    ending_share_value = (shares * ts.iloc[-1]['close'])\n",
    "    ending_value = ending_share_value + cash\n",
    "    roi = ending_value/(starting_value+starting_cash) - 1\n",
    "    return round(ending_share_value,2), round(cash,2), round(roi,4), num_buys, num_sells, round(total_tax_holdout,2), share_lots"
   ]
  },
  {
   "cell_type": "code",
   "execution_count": 576,
   "metadata": {},
   "outputs": [],
   "source": [
    "def fitness(trader, ts):\n",
    "    return run_sim(trader, ts)"
   ]
  },
  {
   "cell_type": "code",
   "execution_count": 577,
   "metadata": {},
   "outputs": [],
   "source": [
    "def breed(traders):\n",
    "    # assume traders are sorted\n",
    "    new_traders = deepcopy(traders)\n",
    "    \n",
    "    while True:\n",
    "        mom_idx = np.random.choice(len(traders))\n",
    "        dad_idx = np.random.choice(len(traders))\n",
    "        \n",
    "        if mom_idx == dad_idx:\n",
    "            continue\n",
    "        \n",
    "        mom = traders[mom_idx]\n",
    "        dad = traders[dad_idx]\n",
    "        \n",
    "        child = dict()\n",
    "        for prop in mom.keys():\n",
    "            if np.random.rand() < 0.5:\n",
    "                if np.random.rand() < 0.5:\n",
    "                    child[prop] = mom[prop]\n",
    "                else:\n",
    "                    child[prop] = dad[prop]\n",
    "            else:\n",
    "                child[prop] = (dad[prop] + mom[prop])/2\n",
    "        \n",
    "        if np.random.rand() < 0.5:\n",
    "            new_traders.append(child)\n",
    "        else:\n",
    "            new_traders.append(init_strategy())\n",
    "        \n",
    "        if len(new_traders) == POP_SIZE:\n",
    "            break\n",
    "            \n",
    "    return new_traders"
   ]
  },
  {
   "cell_type": "code",
   "execution_count": 583,
   "metadata": {},
   "outputs": [],
   "source": [
    "def mutate(traders):\n",
    "    for trader in traders[NUM_ELITES:]:\n",
    "        if np.random.rand() < 0.50:\n",
    "            rand_idx = np.random.choice(len(trader.keys()))\n",
    "            strat_prop = list(trader.keys())[rand_idx]\n",
    "            \n",
    "            if strat_prop.endswith('shares_pct'):\n",
    "                trader[strat_prop] = np.round(np.clip(trader[strat_prop] + np.random.normal(0.0, 0.01), a_min=0.001, a_max=1), 4)\n",
    "                \n",
    "            if strat_prop.endswith('trigger_pct'):\n",
    "                trader[strat_prop] = np.round(np.clip(trader[strat_prop] + np.random.normal(0.0, 0.01), a_min=0.001, a_max=0.9999), 4)\n",
    "    \n",
    "    return traders"
   ]
  },
  {
   "cell_type": "code",
   "execution_count": 584,
   "metadata": {},
   "outputs": [],
   "source": [
    "def select(traders, ts):\n",
    "    scores = [ (trader, fitness(trader, ts)) for trader in traders ]\n",
    "    scores = sorted(scores, key=lambda x: -x[1][0])[:int(len(scores)/2)]\n",
    "    \n",
    "    return scores"
   ]
  },
  {
   "cell_type": "code",
   "execution_count": 585,
   "metadata": {},
   "outputs": [],
   "source": [
    "traders = [ init_strategy() for _ in range(POP_SIZE) ]"
   ]
  },
  {
   "cell_type": "code",
   "execution_count": 586,
   "metadata": {},
   "outputs": [],
   "source": [
    "# TODO avg cost basis is messed up...."
   ]
  },
  {
   "cell_type": "code",
   "execution_count": 587,
   "metadata": {},
   "outputs": [
    {
     "name": "stdout",
     "output_type": "stream",
     "text": [
      "STRAT:      {'inc_trigger_pct': 0.0111, 'inc_trigger_sell_shares_pct': 0.01, 'dec_trigger_pct': 0.0051, 'dec_trigger_buy_shares_pct': 0.0886}\n",
      "METRICS:    (175.48, 27.46, 0.0147, 7, 5, 0.01)\n",
      "SHARE LOTS: [{'num_shares': 0.270050271335076, 'cost_basis': 362.27953231199996}, {'num_shares': 0.024456253278944975, 'cost_basis': 359.660740101}, {'num_shares': 0.01370501099003004, 'cost_basis': 366.133040242}, {'num_shares': 0.028405142518761334, 'cost_basis': 363.803012191}, {'num_shares': 0.03061261976446435, 'cost_basis': 365.913977775}, {'num_shares': 0.033324897875595894, 'cost_basis': 363.056208329}, {'num_shares': 0.03591470898909995, 'cost_basis': 364.97}, {'num_shares': 0.039096752205534206, 'cost_basis': 362.83}]\n",
      "\n",
      "STRAT:      {'inc_trigger_pct': 0.008343469238281252, 'inc_trigger_sell_shares_pct': 0.0677, 'dec_trigger_pct': 0.001, 'dec_trigger_buy_shares_pct': 0.1492}\n",
      "METRICS:    (204.36, 0.0, 0.0218, 9, 4, 0.09)\n",
      "SHARE LOTS: [{'num_shares': 0.23857381212691053, 'cost_basis': 362.27953231199996}, {'num_shares': 0.04118366804987122, 'cost_basis': 361.861322149}, {'num_shares': 0.04732827132291201, 'cost_basis': 361.199156058}, {'num_shares': 0.05438964940429048, 'cost_basis': 360.726180278}, {'num_shares': 0.06250458509541061, 'cost_basis': 359.660740101}, {'num_shares': 0.07183026919164588, 'cost_basis': 358.58534254}, {'num_shares': 0.0004065328046524014, 'cost_basis': 363.275270795}, {'num_shares': 6.44020319917546e-05, 'cost_basis': 365.10723045599997}, {'num_shares': 1.0869272337274416e-05, 'cost_basis': 367.447415039}, {'num_shares': 0.03751615065671032, 'cost_basis': 369.62}]\n",
      "\n",
      "STRAT:      {'inc_trigger_pct': 0.008231203630566597, 'inc_trigger_sell_shares_pct': 0.1209, 'dec_trigger_pct': 0.001, 'dec_trigger_buy_shares_pct': 0.14928203125}\n",
      "METRICS:    (204.4, 0.0, 0.022, 9, 4, 0.16)\n",
      "SHARE LOTS: [{'num_shares': 0.2091161633805062, 'cost_basis': 362.27953231199996}, {'num_shares': 0.04120631113143768, 'cost_basis': 361.861322149}, {'num_shares': 0.047357672957458186, 'cost_basis': 361.199156058}, {'num_shares': 0.05442732257182074, 'cost_basis': 360.726180278}, {'num_shares': 0.06255234384084112, 'cost_basis': 359.660740101}, {'num_shares': 0.0718902847888503, 'cost_basis': 358.58534254}, {'num_shares': 0.0002371840797825986, 'cost_basis': 363.275270795}, {'num_shares': 0.00010845368229561725, 'cost_basis': 365.10723045599997}, {'num_shares': 1.830576032046949e-05, 'cost_basis': 367.447415039}, {'num_shares': 0.06700854091414356, 'cost_basis': 369.62}]\n",
      "\n",
      "STRAT:      {'inc_trigger_pct': 0.0025, 'inc_trigger_sell_shares_pct': 0.1253, 'dec_trigger_pct': 0.001, 'dec_trigger_buy_shares_pct': 0.14919655327238143}\n",
      "METRICS:    (204.43, 0.0, 0.0221, 14, 9, 0.24)\n",
      "SHARE LOTS: [{'num_shares': 0.14606967047822444, 'cost_basis': 362.27953231199996}, {'num_shares': 0.04118271664983033, 'cost_basis': 361.861322149}, {'num_shares': 0.04732703602837812, 'cost_basis': 361.199156058}, {'num_shares': 0.054388066680409956, 'cost_basis': 360.726180278}, {'num_shares': 0.06250257876827557, 'cost_basis': 359.660740101}, {'num_shares': 0.07182774809113782, 'cost_basis': 358.58534254}, {'num_shares': 0.0003454687581662397, 'cost_basis': 363.275270795}, {'num_shares': 0.060734771903266205, 'cost_basis': 366.133040242}, {'num_shares': 1.9586099847951344e-06, 'cost_basis': 368.756811145}, {'num_shares': 1.727077854016268e-05, 'cost_basis': 369.86705955300005}, {'num_shares': 0.06960176062266824, 'cost_basis': 369.62}]\n",
      "\n",
      "STRAT:      {'inc_trigger_pct': 0.0025, 'inc_trigger_sell_shares_pct': 0.1253, 'dec_trigger_pct': 0.001, 'dec_trigger_buy_shares_pct': 0.14919655327238143}\n",
      "METRICS:    (204.43, 0.0, 0.0221, 14, 9, 0.24)\n",
      "SHARE LOTS: [{'num_shares': 0.14606967047822444, 'cost_basis': 362.27953231199996}, {'num_shares': 0.04118271664983033, 'cost_basis': 361.861322149}, {'num_shares': 0.04732703602837812, 'cost_basis': 361.199156058}, {'num_shares': 0.054388066680409956, 'cost_basis': 360.726180278}, {'num_shares': 0.06250257876827557, 'cost_basis': 359.660740101}, {'num_shares': 0.07182774809113782, 'cost_basis': 358.58534254}, {'num_shares': 0.0003454687581662397, 'cost_basis': 363.275270795}, {'num_shares': 0.060734771903266205, 'cost_basis': 366.133040242}, {'num_shares': 1.9586099847951344e-06, 'cost_basis': 368.756811145}, {'num_shares': 1.727077854016268e-05, 'cost_basis': 369.86705955300005}, {'num_shares': 0.06960176062266824, 'cost_basis': 369.62}]\n",
      "\n",
      "STRAT:      {'inc_trigger_pct': 0.0025048828125, 'inc_trigger_sell_shares_pct': 0.1296, 'dec_trigger_pct': 0.001, 'dec_trigger_buy_shares_pct': 0.1496987793655777}\n",
      "METRICS:    (204.44, -0.0, 0.0222, 14, 9, 0.25)\n",
      "SHARE LOTS: [{'num_shares': 0.14181933217940146, 'cost_basis': 362.27953231199996}, {'num_shares': 0.04132134609157415, 'cost_basis': 361.861322149}, {'num_shares': 0.047507101163225395, 'cost_basis': 361.199156058}, {'num_shares': 0.05461885621855725, 'cost_basis': 360.726180278}, {'num_shares': 0.06279523232481926, 'cost_basis': 359.660740101}, {'num_shares': 0.07139289892452766, 'cost_basis': 358.58534254}, {'num_shares': 4.341287118179993e-05, 'cost_basis': 363.275270795}, {'num_shares': 0.06251547509793284, 'cost_basis': 366.133040242}, {'num_shares': 8.557261969160956e-07, 'cost_basis': 368.756811145}, {'num_shares': 1.7776233288940846e-05, 'cost_basis': 369.86705955300005}, {'num_shares': 0.0719927605612529, 'cost_basis': 369.62}]\n",
      "\n"
     ]
    }
   ],
   "source": [
    "for i in range(NUM_EPOCHS):\n",
    "    traders_scores = select(traders, ts)\n",
    "    if i % 50 == 0 or i == (NUM_EPOCHS-1):\n",
    "        print('STRAT:     ', traders_scores[0][0])\n",
    "        print('METRICS:   ', traders_scores[0][1][:-1])\n",
    "        print('SHARE LOTS:', traders_scores[0][1][-1])\n",
    "        print()\n",
    "    traders = [ t for t,_ in traders_scores ]\n",
    "    traders = breed(traders)\n",
    "    traders = mutate(traders)"
   ]
  },
  {
   "cell_type": "markdown",
   "metadata": {},
   "source": [
    "## TEST"
   ]
  },
  {
   "cell_type": "code",
   "execution_count": 570,
   "metadata": {},
   "outputs": [],
   "source": [
    "test_ts = pd.read_pickle('SPY_year1month1.pkl')"
   ]
  },
  {
   "cell_type": "code",
   "execution_count": 571,
   "metadata": {},
   "outputs": [
    {
     "data": {
      "text/plain": [
       "{'inc_trigger_pct': 0.01,\n",
       " 'inc_trigger_sell_shares_pct': 0.06341279385489314,\n",
       " 'dec_trigger_pct': 0.0012758132934570315,\n",
       " 'dec_trigger_buy_shares_pct': 0.19021115589809476}"
      ]
     },
     "execution_count": 571,
     "metadata": {},
     "output_type": "execute_result"
    }
   ],
   "source": [
    "traders[0]"
   ]
  },
  {
   "cell_type": "code",
   "execution_count": 480,
   "metadata": {},
   "outputs": [],
   "source": [
    "starting_cash = 500\n",
    "starting_shares = TRADER_START_AMT / test_ts.iloc[0]['close']\n",
    "starting_value = TRADER_START_AMT"
   ]
  },
  {
   "cell_type": "code",
   "execution_count": 481,
   "metadata": {},
   "outputs": [
    {
     "data": {
      "text/plain": [
       "(566.4066492723996, 0.029830271404362785)"
      ]
     },
     "execution_count": 481,
     "metadata": {},
     "output_type": "execute_result"
    }
   ],
   "source": [
    "ending_value = test_ts.iloc[-1]['close'] * ((starting_value+starting_cash) / test_ts.iloc[0]['close'])\n",
    "roi = ending_value/(starting_value+starting_cash) - 1\n",
    "ending_value, roi"
   ]
  },
  {
   "cell_type": "code",
   "execution_count": 485,
   "metadata": {},
   "outputs": [
    {
     "data": {
      "text/plain": [
       "(571.27, 0.0, 0.0387, 5, 0, 0, 550.0, 1.4921085418963511, 368.61)"
      ]
     },
     "execution_count": 485,
     "metadata": {},
     "output_type": "execute_result"
    }
   ],
   "source": [
    "run_sim(traders[0], test_ts)"
   ]
  },
  {
   "cell_type": "code",
   "execution_count": 484,
   "metadata": {},
   "outputs": [
    {
     "data": {
      "text/plain": [
       "[(571.27, 0.0, 0.0387, 5, 0, 0, 550.0, 1.4921085418963511, 368.61),\n",
       " (571.27, 0.0, 0.0387, 5, 0, 0, 550.0, 1.4921085418963511, 368.61),\n",
       " (571.27, 0.0, 0.0387, 5, 0, 0, 550.0, 1.4921085418963511, 368.61),\n",
       " (571.27, 0.0, 0.0387, 5, 0, 0, 550.0, 1.4921085418963511, 368.61),\n",
       " (571.27, 0.0, 0.0387, 5, 0, 0, 550.0, 1.4921085418963511, 368.61),\n",
       " (571.27, 0.0, 0.0387, 5, 0, 0, 550.0, 1.4921085418963511, 368.61),\n",
       " (571.27, 0.0, 0.0387, 5, 0, 0, 550.0, 1.4921085418963511, 368.61),\n",
       " (571.27, 0.0, 0.0387, 5, 0, 0, 550.0, 1.4921085418963511, 368.61),\n",
       " (571.27, 0.0, 0.0387, 5, 0, 0, 550.0, 1.4921085418963511, 368.61),\n",
       " (571.27, 0.0, 0.0387, 5, 0, 0, 550.0, 1.4921085418963511, 368.61),\n",
       " (571.27, 0.0, 0.0387, 5, 0, 0, 550.0, 1.4921085418963511, 368.61),\n",
       " (571.27, 0.0, 0.0387, 5, 0, 0, 550.0, 1.4921085418963511, 368.61),\n",
       " (571.27, 0.0, 0.0387, 5, 0, 0, 550.0, 1.4921085418963511, 368.61),\n",
       " (571.27, 0.0, 0.0387, 5, 0, 0, 550.0, 1.4921085418963511, 368.61),\n",
       " (571.27, 0.0, 0.0387, 5, 0, 0, 550.0, 1.4921085418963511, 368.61),\n",
       " (571.27, 0.0, 0.0387, 5, 0, 0, 550.0, 1.4921085418963511, 368.61),\n",
       " (571.27, 0.0, 0.0387, 5, 0, 0, 550.0, 1.4921085418963511, 368.61),\n",
       " (571.27, 0.0, 0.0387, 5, 0, 0, 550.0, 1.4921085418963511, 368.61),\n",
       " (571.27, 0.0, 0.0387, 5, 0, 0, 550.0, 1.4921085418963511, 368.61),\n",
       " (571.27, 0.0, 0.0387, 5, 0, 0, 550.0, 1.4921085418963511, 368.61),\n",
       " (571.27, 0.0, 0.0387, 5, 0, 0, 550.0, 1.4921085418963511, 368.61),\n",
       " (571.27, 0.0, 0.0387, 5, 0, 0, 550.0, 1.4921085418963511, 368.61),\n",
       " (571.27, 0.0, 0.0387, 5, 0, 0, 550.0, 1.4921085418963511, 368.61),\n",
       " (571.27, 0.0, 0.0387, 5, 0, 0, 550.0, 1.4921085418963511, 368.61),\n",
       " (570.6, 0.0, 0.0375, 4, 0, 0, 550.0, 1.4903668572110207, 369.04),\n",
       " (570.6, 0.0, 0.0375, 4, 0, 0, 550.0, 1.4903668572110207, 369.04),\n",
       " (570.6, 0.0, 0.0375, 4, 0, 0, 550.0, 1.4903668572110207, 369.04),\n",
       " (369.76,\n",
       "  194.26,\n",
       "  0.0255,\n",
       "  5,\n",
       "  0,\n",
       "  0,\n",
       "  355.73963571819104,\n",
       "  0.9657853889879344,\n",
       "  368.34),\n",
       " (93.96,\n",
       "  459.3,\n",
       "  0.0059,\n",
       "  1,\n",
       "  0,\n",
       "  0,\n",
       "  90.70285315540292,\n",
       "  0.24541080175141855,\n",
       "  369.6),\n",
       " (93.96,\n",
       "  459.3,\n",
       "  0.0059,\n",
       "  1,\n",
       "  0,\n",
       "  0,\n",
       "  90.70285315540292,\n",
       "  0.24541080175141855,\n",
       "  369.6),\n",
       " (52.51,\n",
       "  499.02,\n",
       "  0.0028,\n",
       "  1,\n",
       "  0,\n",
       "  0,\n",
       "  50.97719127417489,\n",
       "  0.1371546924173548,\n",
       "  371.68),\n",
       " (51.49, 500, 0.0027, 0, 0, 0, 50, 0.13449175565537833, 371.77),\n",
       " (51.49, 500, 0.0027, 0, 0, 0, 50, 0.13449175565537833, 371.77),\n",
       " (51.49, 500, 0.0027, 0, 0, 0, 50, 0.13449175565537833, 371.77),\n",
       " (51.49, 500, 0.0027, 0, 0, 0, 50, 0.13449175565537833, 371.77),\n",
       " (51.49, 500, 0.0027, 0, 0, 0, 50, 0.13449175565537833, 371.77),\n",
       " (49.48, 502.0, 0.0027, 0, 1, 0.01, 50, 0.12923312800925305, 371.77),\n",
       " (49.0,\n",
       "  502.49,\n",
       "  0.0027,\n",
       "  1,\n",
       "  1,\n",
       "  0.02,\n",
       "  51.623716814159295,\n",
       "  0.12798380315786642,\n",
       "  371.62),\n",
       " (51.49, 500, 0.0027, 0, 0, 0, 50, 0.13449175565537833, 371.77),\n",
       " (51.49, 500, 0.0027, 0, 0, 0, 50, 0.13449175565537833, 371.77),\n",
       " (51.49, 500, 0.0027, 0, 0, 0, 50, 0.13449175565537833, 371.77),\n",
       " (51.49, 500, 0.0027, 0, 0, 0, 50, 0.13449175565537833, 371.77),\n",
       " (46.79, 504.64, 0.0026, 0, 2, 0.02, 50, 0.12222353740215723, 371.77),\n",
       " (48.22, 503.23, 0.0026, 0, 1, 0.01, 50, 0.12593807999569626, 371.77),\n",
       " (47.05, 504.39, 0.0026, 0, 3, 0.02, 50, 0.12289890868870537, 371.77),\n",
       " (46.91, 504.53, 0.0026, 0, 1, 0.02, 50, 0.12252198940204966, 371.77),\n",
       " (47.63, 503.82, 0.0026, 0, 1, 0.02, 50, 0.1244183231567905, 371.77),\n",
       " (43.63, 507.76, 0.0025, 0, 3, 0.04, 50, 0.11396780480498694, 371.77),\n",
       " (37.71, 513.58, 0.0024, 0, 4, 0.06, 50, 0.0985032107507599, 371.77),\n",
       " (39.3, 512.01, 0.0024, 0, 3, 0.05, 50, 0.10265773900785433, 371.77)]"
      ]
     },
     "execution_count": 484,
     "metadata": {},
     "output_type": "execute_result"
    }
   ],
   "source": [
    "sorted([ run_sim(t, test_ts) for t in traders ], key=lambda x: -x[2])"
   ]
  },
  {
   "cell_type": "code",
   "execution_count": null,
   "metadata": {},
   "outputs": [],
   "source": []
  }
 ],
 "metadata": {
  "kernelspec": {
   "display_name": "Python 3",
   "language": "python",
   "name": "python3"
  },
  "language_info": {
   "codemirror_mode": {
    "name": "ipython",
    "version": 3
   },
   "file_extension": ".py",
   "mimetype": "text/x-python",
   "name": "python",
   "nbconvert_exporter": "python",
   "pygments_lexer": "ipython3",
   "version": "3.8.3"
  }
 },
 "nbformat": 4,
 "nbformat_minor": 4
}
